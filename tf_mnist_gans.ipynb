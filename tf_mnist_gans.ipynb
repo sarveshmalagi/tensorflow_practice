{
  "nbformat": 4,
  "nbformat_minor": 0,
  "metadata": {
    "colab": {
      "name": "tf_mnist_gans.ipynb",
      "provenance": [],
      "include_colab_link": true
    },
    "kernelspec": {
      "name": "python3",
      "display_name": "Python 3"
    },
    "accelerator": "GPU"
  },
  "cells": [
    {
      "cell_type": "markdown",
      "metadata": {
        "id": "view-in-github",
        "colab_type": "text"
      },
      "source": [
        "<a href=\"https://colab.research.google.com/github/sarveshmalagi/tensorflow_practice/blob/master/tf_mnist_gans.ipynb\" target=\"_parent\"><img src=\"https://colab.research.google.com/assets/colab-badge.svg\" alt=\"Open In Colab\"/></a>"
      ]
    },
    {
      "cell_type": "code",
      "metadata": {
        "id": "L2l8ENFioi3q",
        "colab_type": "code",
        "colab": {}
      },
      "source": [
        "import tensorflow as tf"
      ],
      "execution_count": 0,
      "outputs": []
    },
    {
      "cell_type": "code",
      "metadata": {
        "id": "p0nDVOrQomYa",
        "colab_type": "code",
        "colab": {}
      },
      "source": [
        "import numpy as np\n",
        "import matplotlib.pyplot as plt\n",
        "%matplotlib inline"
      ],
      "execution_count": 0,
      "outputs": []
    },
    {
      "cell_type": "code",
      "metadata": {
        "id": "sf9hvhnpotXw",
        "colab_type": "code",
        "colab": {}
      },
      "source": [
        "from tensorflow.examples.tutorials.mnist import input_data"
      ],
      "execution_count": 0,
      "outputs": []
    },
    {
      "cell_type": "code",
      "metadata": {
        "id": "pMJNeHbSo40W",
        "colab_type": "code",
        "colab": {}
      },
      "source": [
        "mnist = input_data.read_data_sets('MNIST_data/', one_hot=True)"
      ],
      "execution_count": 0,
      "outputs": []
    },
    {
      "cell_type": "code",
      "metadata": {
        "id": "opdhLRr0pGi1",
        "colab_type": "code",
        "colab": {
          "base_uri": "https://localhost:8080/",
          "height": 286
        },
        "outputId": "54a0a45a-6a1a-45a6-88f0-3c4ed6dabbb9"
      },
      "source": [
        "plt.imshow(mnist.train.images[1].reshape(28, 28))"
      ],
      "execution_count": 5,
      "outputs": [
        {
          "output_type": "execute_result",
          "data": {
            "text/plain": [
              "<matplotlib.image.AxesImage at 0x7fb8a3d8f630>"
            ]
          },
          "metadata": {
            "tags": []
          },
          "execution_count": 5
        },
        {
          "output_type": "display_data",
          "data": {
            "image/png": "[encoded data removed]",
            "text/plain": [
              "<Figure size 432x288 with 1 Axes>"
            ]
          },
          "metadata": {
            "tags": []
          }
        }
      ]
    },
    {
      "cell_type": "code",
      "metadata": {
        "id": "0klwNMPNpzEx",
        "colab_type": "code",
        "colab": {}
      },
      "source": [
        "def generator(z, reuse=None):\n",
        "  \n",
        "  with tf.variable_scope('gen', reuse=reuse):\n",
        "    hidden1 = tf.layers.dense(inputs=z, units=128)\n",
        "    \n",
        "    alpha = 0.01\n",
        "    hidden1 = tf.maximum(alpha*hidden1, hidden1)\n",
        "    \n",
        "    hidden2 = tf.layers.dense(inputs=hidden1, units=128)\n",
        "    hidden2 = tf.maximum(alpha*hidden2, hidden2)\n",
        "    \n",
        "    output = tf.layers.dense(hidden2, units=784, activation=tf.nn.tanh)\n",
        "    \n",
        "    return output"
      ],
      "execution_count": 0,
      "outputs": []
    },
    {
      "cell_type": "code",
      "metadata": {
        "id": "3Jl5ilVVrN5u",
        "colab_type": "code",
        "colab": {}
      },
      "source": [
        "def discriminator(X, reuse=None):\n",
        "  \n",
        "  with tf.variable_scope('dis', reuse=reuse):\n",
        "    hidden1 = tf.layers.dense(inputs=X, units=128)\n",
        "    \n",
        "    alpha = 0.01\n",
        "    hidden1 = tf.maximum(alpha*hidden1, hidden1)\n",
        "    \n",
        "    hidden2 = tf.layers.dense(inputs=hidden1, units=128)\n",
        "    hidden2 = tf.maximum(alpha*hidden2, hidden2)\n",
        "    \n",
        "    logits = tf.layers.dense(hidden2, units=1)\n",
        "    output = tf.sigmoid(logits)\n",
        "    \n",
        "    return output, logits"
      ],
      "execution_count": 0,
      "outputs": []
    },
    {
      "cell_type": "code",
      "metadata": {
        "id": "MhlOa-wmtbtQ",
        "colab_type": "code",
        "colab": {}
      },
      "source": [
        "real_images = tf.placeholder(tf.float32, shape=[None, 784])\n",
        "z = tf.placeholder(tf.float32, shape=[None, 100])"
      ],
      "execution_count": 0,
      "outputs": []
    },
    {
      "cell_type": "code",
      "metadata": {
        "id": "eUxHRIvrt47j",
        "colab_type": "code",
        "colab": {
          "base_uri": "https://localhost:8080/",
          "height": 139
        },
        "outputId": "72fbb092-d964-4aaf-b746-6fcb2bd77156"
      },
      "source": [
        "G = generator(z)"
      ],
      "execution_count": 9,
      "outputs": [
        {
          "output_type": "stream",
          "text": [
            "WARNING:tensorflow:From <ipython-input-6-d60ba17de462>:4: dense (from tensorflow.python.layers.core) is deprecated and will be removed in a future version.\n",
            "Instructions for updating:\n",
            "Use keras.layers.Dense instead.\n",
            "WARNING:tensorflow:From /usr/local/lib/python3.6/dist-packages/tensorflow_core/python/layers/core.py:187: Layer.apply (from tensorflow.python.keras.engine.base_layer) is deprecated and will be removed in a future version.\n",
            "Instructions for updating:\n",
            "Please use `layer.__call__` method instead.\n"
          ],
          "name": "stdout"
        }
      ]
    },
    {
      "cell_type": "code",
      "metadata": {
        "id": "xa8PweBrt9nA",
        "colab_type": "code",
        "colab": {}
      },
      "source": [
        "D_output_real, D_logits_real = discriminator(real_images)"
      ],
      "execution_count": 0,
      "outputs": []
    },
    {
      "cell_type": "code",
      "metadata": {
        "id": "7HJ9JKUkuPyD",
        "colab_type": "code",
        "colab": {}
      },
      "source": [
        "D_output_fake, D_logits_fake = discriminator(G, reuse=True)"
      ],
      "execution_count": 0,
      "outputs": []
    },
    {
      "cell_type": "code",
      "metadata": {
        "id": "A43XD1Pkuc2I",
        "colab_type": "code",
        "colab": {}
      },
      "source": [
        "def loss_func(logits_in, labels_in):\n",
        "  \n",
        "  return tf.reduce_mean(tf.nn.sigmoid_cross_entropy_with_logits(logits=logits_in, labels=labels_in))"
      ],
      "execution_count": 0,
      "outputs": []
    },
    {
      "cell_type": "code",
      "metadata": {
        "id": "p_tCRX43utu6",
        "colab_type": "code",
        "colab": {
          "base_uri": "https://localhost:8080/",
          "height": 88
        },
        "outputId": "6e201653-3dc9-41ea-fa5b-99bc6033d7d6"
      },
      "source": [
        "D_real_loss = loss_func(D_logits_real, tf.ones_like(D_logits_real)*0.9)\n",
        "D_fake_loss = loss_func(D_logits_fake, tf.zeros_like(D_logits_real))"
      ],
      "execution_count": 13,
      "outputs": [
        {
          "output_type": "stream",
          "text": [
            "WARNING:tensorflow:From /usr/local/lib/python3.6/dist-packages/tensorflow_core/python/ops/nn_impl.py:183: where (from tensorflow.python.ops.array_ops) is deprecated and will be removed in a future version.\n",
            "Instructions for updating:\n",
            "Use tf.where in 2.0, which has the same broadcast rule as np.where\n"
          ],
          "name": "stdout"
        }
      ]
    },
    {
      "cell_type": "code",
      "metadata": {
        "id": "3U_ewgtMvRzM",
        "colab_type": "code",
        "colab": {}
      },
      "source": [
        "D_loss = D_real_loss + D_fake_loss"
      ],
      "execution_count": 0,
      "outputs": []
    },
    {
      "cell_type": "code",
      "metadata": {
        "id": "uwmA1USBvWvb",
        "colab_type": "code",
        "colab": {}
      },
      "source": [
        "G_loss = loss_func(D_logits_fake, tf.ones_like(D_logits_fake))"
      ],
      "execution_count": 0,
      "outputs": []
    },
    {
      "cell_type": "code",
      "metadata": {
        "id": "Se9dk6n-vc8c",
        "colab_type": "code",
        "colab": {}
      },
      "source": [
        "learning_rate = 0.001"
      ],
      "execution_count": 0,
      "outputs": []
    },
    {
      "cell_type": "code",
      "metadata": {
        "id": "aQGMyoFbvgl3",
        "colab_type": "code",
        "colab": {}
      },
      "source": [
        "tvars = tf.trainable_variables()\n",
        "\n",
        "d_vars = [var for var in tvars if 'dis' in var.name]\n",
        "g_vars = [var for var in tvars if 'gen' in var.name]"
      ],
      "execution_count": 0,
      "outputs": []
    },
    {
      "cell_type": "code",
      "metadata": {
        "id": "Ly6BefdOwGEz",
        "colab_type": "code",
        "colab": {}
      },
      "source": [
        "D_trainer = tf.train.AdamOptimizer(learning_rate).minimize(D_loss, var_list=d_vars)"
      ],
      "execution_count": 0,
      "outputs": []
    },
    {
      "cell_type": "code",
      "metadata": {
        "id": "mPRwVIz7x2dt",
        "colab_type": "code",
        "colab": {}
      },
      "source": [
        "G_trainer = tf.train.AdamOptimizer(learning_rate).minimize(G_loss, var_list=g_vars)"
      ],
      "execution_count": 0,
      "outputs": []
    },
    {
      "cell_type": "code",
      "metadata": {
        "id": "QSWACMAVx5UT",
        "colab_type": "code",
        "colab": {}
      },
      "source": [
        "batch_size = 100"
      ],
      "execution_count": 0,
      "outputs": []
    },
    {
      "cell_type": "code",
      "metadata": {
        "id": "G6AGVf_ryFbx",
        "colab_type": "code",
        "colab": {}
      },
      "source": [
        "epochs = 500"
      ],
      "execution_count": 0,
      "outputs": []
    },
    {
      "cell_type": "code",
      "metadata": {
        "id": "d4v5TCunyMlm",
        "colab_type": "code",
        "colab": {}
      },
      "source": [
        "init = tf.global_variables_initializer()"
      ],
      "execution_count": 0,
      "outputs": []
    },
    {
      "cell_type": "code",
      "metadata": {
        "id": "7y0cAPSdyP1r",
        "colab_type": "code",
        "colab": {}
      },
      "source": [
        "samples = []"
      ],
      "execution_count": 0,
      "outputs": []
    },
    {
      "cell_type": "code",
      "metadata": {
        "id": "duji8wVdyRVc",
        "colab_type": "code",
        "colab": {}
      },
      "source": [
        "with tf.Session() as sess:\n",
        "  \n",
        "  sess.run(init)\n",
        "  \n",
        "  for epoch in range(epochs):\n",
        "    \n",
        "    num_batches = mnist.train.num_examples // batch_size\n",
        "    \n",
        "    for i in range(num_batches):\n",
        "      \n",
        "      batch = mnist.train.next_batch(batch_size)\n",
        "      \n",
        "      batch_images = batch[0].reshape((batch_size, 784))\n",
        "      batch_images = batch_images * 2 - 1\n",
        "      \n",
        "      batch_z = np.random.uniform(-1, 1, size=(batch_size, 100))\n",
        "      \n",
        "      _ = sess.run(D_trainer, feed_dict={real_images:batch_images, z:batch_z})\n",
        "      \n",
        "      _ = sess.run(G_trainer, feed_dict={z:batch_z})\n",
        "      \n",
        "    print('ON EPOCH {}'.format(epoch))\n",
        "    \n",
        "    sample_z = np.random.uniform(-1, 1, size=(1, 100))\n",
        "    gen_sample = sess.run(generator(z, reuse=True), feed_dict={z:sample_z})\n",
        "    \n",
        "    samples.append(gen_sample)"
      ],
      "execution_count": 0,
      "outputs": []
    },
    {
      "cell_type": "code",
      "metadata": {
        "id": "Y8vwdDGnzwtI",
        "colab_type": "code",
        "colab": {
          "base_uri": "https://localhost:8080/",
          "height": 286
        },
        "outputId": "73775447-2429-4207-b6dd-1d4f63c2f688"
      },
      "source": [
        "plt.imshow(samples[496].reshape(28, 28))"
      ],
      "execution_count": 50,
      "outputs": [
        {
          "output_type": "execute_result",
          "data": {
            "text/plain": [
              "<matplotlib.image.AxesImage at 0x7fb852e8c550>"
            ]
          },
          "metadata": {
            "tags": []
          },
          "execution_count": 50
        },
        {
          "output_type": "display_data",
          "data": {
            "image/png": "[encoded data removed]",
            "text/plain": [
              "<Figure size 432x288 with 1 Axes>"
            ]
          },
          "metadata": {
            "tags": []
          }
        }
      ]
    }
  ]
}