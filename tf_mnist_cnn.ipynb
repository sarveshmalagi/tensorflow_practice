{
  "nbformat": 4,
  "nbformat_minor": 0,
  "metadata": {
    "colab": {
      "name": "tf_mnist_cnn.ipynb",
      "provenance": [],
      "include_colab_link": true
    },
    "kernelspec": {
      "name": "python3",
      "display_name": "Python 3"
    },
    "accelerator": "GPU"
  },
  "cells": [
    {
      "cell_type": "markdown",
      "metadata": {
        "id": "view-in-github",
        "colab_type": "text"
      },
      "source": [
        "<a href=\"https://colab.research.google.com/github/sarveshmalagi/tensorflow_practice/blob/master/tf_mnist_cnn.ipynb\" target=\"_parent\"><img src=\"https://colab.research.google.com/assets/colab-badge.svg\" alt=\"Open In Colab\"/></a>"
      ]
    },
    {
      "cell_type": "code",
      "metadata": {
        "id": "DRRR-wIwcSjr",
        "colab_type": "code",
        "colab": {}
      },
      "source": [
        "import tensorflow as tf"
      ],
      "execution_count": 0,
      "outputs": []
    },
    {
      "cell_type": "code",
      "metadata": {
        "id": "avPj2v53cZSw",
        "colab_type": "code",
        "colab": {}
      },
      "source": [
        "from tensorflow.examples.tutorials.mnist import input_data"
      ],
      "execution_count": 0,
      "outputs": []
    },
    {
      "cell_type": "code",
      "metadata": {
        "id": "UakReYYmcgpW",
        "colab_type": "code",
        "colab": {}
      },
      "source": [
        "mnist = input_data.read_data_sets('MNIST_data/', one_hot=True)"
      ],
      "execution_count": 0,
      "outputs": []
    },
    {
      "cell_type": "code",
      "metadata": {
        "id": "D1Rqbu8FcoHO",
        "colab_type": "code",
        "colab": {}
      },
      "source": [
        "def init_weights(shape):\n",
        "  init_random_dist = tf.truncated_normal(shape, stddev=0.1)\n",
        "  \n",
        "  return tf.Variable(init_random_dist)"
      ],
      "execution_count": 0,
      "outputs": []
    },
    {
      "cell_type": "code",
      "metadata": {
        "id": "XWuyk9CadGNm",
        "colab_type": "code",
        "colab": {}
      },
      "source": [
        "def init_bias(shape):\n",
        "  init_bias_vals = tf.constant(0.1, shape=shape)\n",
        "  return tf.Variable(init_bias_vals)"
      ],
      "execution_count": 0,
      "outputs": []
    },
    {
      "cell_type": "code",
      "metadata": {
        "id": "X7yngiDQdRC3",
        "colab_type": "code",
        "colab": {}
      },
      "source": [
        "def conv2d(x, W):\n",
        "  # x --> [batch, H, W, C] --> Input tensor\n",
        "  # W --> [filter H, filter W, channel IN, channel OUT]\n",
        "  \n",
        "  return tf.nn.conv2d(x, W, strides=[1,1,1,1], padding='SAME')"
      ],
      "execution_count": 0,
      "outputs": []
    },
    {
      "cell_type": "code",
      "metadata": {
        "id": "gCK0cUHed11f",
        "colab_type": "code",
        "colab": {}
      },
      "source": [
        "def max_pool_2by2(x):\n",
        "  return tf.nn.max_pool(x, ksize=[1, 2, 2, 1], strides=[1, 2, 2, 1], padding='SAME')"
      ],
      "execution_count": 0,
      "outputs": []
    },
    {
      "cell_type": "code",
      "metadata": {
        "id": "s7Hmpq7FfLtY",
        "colab_type": "code",
        "colab": {}
      },
      "source": [
        "def convolutional_layer(input_x, shape):\n",
        "  \n",
        "  W = init_weights(shape)\n",
        "  b = init_bias([shape[3]])\n",
        "  return tf.nn.relu(conv2d(input_x, W)+b)"
      ],
      "execution_count": 0,
      "outputs": []
    },
    {
      "cell_type": "code",
      "metadata": {
        "id": "TxwxX8pcfkAx",
        "colab_type": "code",
        "colab": {}
      },
      "source": [
        "def fc_layer(input_layer, size):\n",
        "  input_size = int(input_layer.get_shape()[1])\n",
        "  W = init_weights([input_size, size])\n",
        "  b = init_bias([size])\n",
        "  return tf.matmul(input_layer, W)+b"
      ],
      "execution_count": 0,
      "outputs": []
    },
    {
      "cell_type": "code",
      "metadata": {
        "id": "hzYmlXKvgFQC",
        "colab_type": "code",
        "colab": {}
      },
      "source": [
        "x = tf.placeholder(tf.float32, shape=[None, 784])\n",
        "y_true = tf.placeholder(tf.float32, shape=[None, 10])"
      ],
      "execution_count": 0,
      "outputs": []
    },
    {
      "cell_type": "code",
      "metadata": {
        "id": "G5d3gUxugbc6",
        "colab_type": "code",
        "colab": {}
      },
      "source": [
        "x_image = tf.reshape(x, [-1, 28, 28, 1])"
      ],
      "execution_count": 0,
      "outputs": []
    },
    {
      "cell_type": "code",
      "metadata": {
        "id": "EweEqLQZgjiy",
        "colab_type": "code",
        "colab": {}
      },
      "source": [
        "conv_1 = convolutional_layer(x_image, shape=[5,5,1,32])\n",
        "conv_1_pooling = max_pool_2by2(conv_1)"
      ],
      "execution_count": 0,
      "outputs": []
    },
    {
      "cell_type": "code",
      "metadata": {
        "id": "gL5GfTSqg0iL",
        "colab_type": "code",
        "colab": {}
      },
      "source": [
        "conv_2 = convolutional_layer(conv_1_pooling, shape=[5,5,32,64])\n",
        "conv_2_pooling = max_pool_2by2(conv_2)"
      ],
      "execution_count": 0,
      "outputs": []
    },
    {
      "cell_type": "code",
      "metadata": {
        "id": "ltcpACaohZ_2",
        "colab_type": "code",
        "colab": {}
      },
      "source": [
        "conv_2_flat = tf.reshape(conv_2_pooling, [-1, 7*7*64])\n",
        "full_layer_one = tf.nn.relu(fc_layer(conv_2_flat, 1024))"
      ],
      "execution_count": 0,
      "outputs": []
    },
    {
      "cell_type": "code",
      "metadata": {
        "id": "fOul4ZnUh_t2",
        "colab_type": "code",
        "colab": {
          "base_uri": "https://localhost:8080/",
          "height": 68
        },
        "outputId": "02ca9a52-5641-402b-b204-eadec8a80f0f"
      },
      "source": [
        "hold_prob = tf.placeholder(tf.float32)\n",
        "full_one_dropout = tf.nn.dropout(full_layer_one, keep_prob=hold_prob)"
      ],
      "execution_count": 15,
      "outputs": [
        {
          "output_type": "stream",
          "text": [
            "WARNING:tensorflow:From <ipython-input-15-9ba37e570df2>:2: calling dropout (from tensorflow.python.ops.nn_ops) with keep_prob is deprecated and will be removed in a future version.\n",
            "Instructions for updating:\n",
            "Please use `rate` instead of `keep_prob`. Rate should be set to `rate = 1 - keep_prob`.\n"
          ],
          "name": "stdout"
        }
      ]
    },
    {
      "cell_type": "code",
      "metadata": {
        "id": "yq3Q6nWNiSc-",
        "colab_type": "code",
        "colab": {}
      },
      "source": [
        "y_pred = fc_layer(full_one_dropout, 10)"
      ],
      "execution_count": 0,
      "outputs": []
    },
    {
      "cell_type": "code",
      "metadata": {
        "id": "FMzzGKfWijFn",
        "colab_type": "code",
        "colab": {}
      },
      "source": [
        "cross_entropy = tf.reduce_mean(tf.nn.softmax_cross_entropy_with_logits(labels=y_true, logits=y_pred))"
      ],
      "execution_count": 0,
      "outputs": []
    },
    {
      "cell_type": "code",
      "metadata": {
        "id": "SRiT3r4Ni2yP",
        "colab_type": "code",
        "colab": {}
      },
      "source": [
        "optimizer = tf.train.AdamOptimizer(learning_rate=0.001)\n",
        "train = optimizer.minimize(cross_entropy)"
      ],
      "execution_count": 0,
      "outputs": []
    },
    {
      "cell_type": "code",
      "metadata": {
        "id": "dXuGWLTbjAK3",
        "colab_type": "code",
        "colab": {}
      },
      "source": [
        "init = tf.global_variables_initializer()"
      ],
      "execution_count": 0,
      "outputs": []
    },
    {
      "cell_type": "code",
      "metadata": {
        "id": "xZXO97tpjIt3",
        "colab_type": "code",
        "colab": {
          "base_uri": "https://localhost:8080/",
          "height": 1000
        },
        "outputId": "c48e3ae1-7404-4c8a-b3d0-56582834e7d5"
      },
      "source": [
        "steps = 5000\n",
        "\n",
        "with tf.Session() as sess:\n",
        "  \n",
        "  sess.run(init)\n",
        "  \n",
        "  for i in range(steps):\n",
        "    \n",
        "    batch_x, batch_y = mnist.train.next_batch(50)\n",
        "    \n",
        "    sess.run(train, feed_dict={x: batch_x, y_true:batch_y, hold_prob:0.5})\n",
        "    \n",
        "    if i%100 == 0:\n",
        "      \n",
        "      print('Step: {}'.format(i))\n",
        "      matches = tf.equal(tf.argmax(y_pred, 1), tf.argmax(y_true, 1))\n",
        "      acc = tf.reduce_mean(tf.cast(matches, tf.float32))\n",
        "      print(sess.run(acc, feed_dict={x:mnist.test.images, y_true:mnist.test.labels, hold_prob:1.0}))\n",
        "      print('\\n')"
      ],
      "execution_count": 20,
      "outputs": [
        {
          "output_type": "stream",
          "text": [
            "Step: 0\n",
            "0.2524\n",
            "\n",
            "\n",
            "Step: 100\n",
            "0.9443\n",
            "\n",
            "\n",
            "Step: 200\n",
            "0.964\n",
            "\n",
            "\n",
            "Step: 300\n",
            "0.9711\n",
            "\n",
            "\n",
            "Step: 400\n",
            "0.972\n",
            "\n",
            "\n",
            "Step: 500\n",
            "0.9741\n",
            "\n",
            "\n",
            "Step: 600\n",
            "0.977\n",
            "\n",
            "\n",
            "Step: 700\n",
            "0.9775\n",
            "\n",
            "\n",
            "Step: 800\n",
            "0.9797\n",
            "\n",
            "\n",
            "Step: 900\n",
            "0.9804\n",
            "\n",
            "\n",
            "Step: 1000\n",
            "0.9825\n",
            "\n",
            "\n",
            "Step: 1100\n",
            "0.9826\n",
            "\n",
            "\n",
            "Step: 1200\n",
            "0.9861\n",
            "\n",
            "\n",
            "Step: 1300\n",
            "0.9849\n",
            "\n",
            "\n",
            "Step: 1400\n",
            "0.9871\n",
            "\n",
            "\n",
            "Step: 1500\n",
            "0.9869\n",
            "\n",
            "\n",
            "Step: 1600\n",
            "0.9861\n",
            "\n",
            "\n",
            "Step: 1700\n",
            "0.9859\n",
            "\n",
            "\n",
            "Step: 1800\n",
            "0.9861\n",
            "\n",
            "\n",
            "Step: 1900\n",
            "0.987\n",
            "\n",
            "\n",
            "Step: 2000\n",
            "0.9862\n",
            "\n",
            "\n",
            "Step: 2100\n",
            "0.9862\n",
            "\n",
            "\n",
            "Step: 2200\n",
            "0.9844\n",
            "\n",
            "\n",
            "Step: 2300\n",
            "0.9872\n",
            "\n",
            "\n",
            "Step: 2400\n",
            "0.9875\n",
            "\n",
            "\n",
            "Step: 2500\n",
            "0.9863\n",
            "\n",
            "\n",
            "Step: 2600\n",
            "0.988\n",
            "\n",
            "\n",
            "Step: 2700\n",
            "0.9887\n",
            "\n",
            "\n",
            "Step: 2800\n",
            "0.9849\n",
            "\n",
            "\n",
            "Step: 2900\n",
            "0.9872\n",
            "\n",
            "\n",
            "Step: 3000\n",
            "0.9889\n",
            "\n",
            "\n",
            "Step: 3100\n",
            "0.9853\n",
            "\n",
            "\n",
            "Step: 3200\n",
            "0.9881\n",
            "\n",
            "\n",
            "Step: 3300\n",
            "0.9882\n",
            "\n",
            "\n",
            "Step: 3400\n",
            "0.9885\n",
            "\n",
            "\n",
            "Step: 3500\n",
            "0.9891\n",
            "\n",
            "\n",
            "Step: 3600\n",
            "0.9891\n",
            "\n",
            "\n",
            "Step: 3700\n",
            "0.9874\n",
            "\n",
            "\n",
            "Step: 3800\n",
            "0.9898\n",
            "\n",
            "\n",
            "Step: 3900\n",
            "0.9902\n",
            "\n",
            "\n",
            "Step: 4000\n",
            "0.9882\n",
            "\n",
            "\n",
            "Step: 4100\n",
            "0.9891\n",
            "\n",
            "\n",
            "Step: 4200\n",
            "0.9876\n",
            "\n",
            "\n",
            "Step: 4300\n",
            "0.9893\n",
            "\n",
            "\n",
            "Step: 4400\n",
            "0.987\n",
            "\n",
            "\n",
            "Step: 4500\n",
            "0.9897\n",
            "\n",
            "\n",
            "Step: 4600\n",
            "0.9885\n",
            "\n",
            "\n",
            "Step: 4700\n",
            "0.9909\n",
            "\n",
            "\n",
            "Step: 4800\n",
            "0.9893\n",
            "\n",
            "\n",
            "Step: 4900\n",
            "0.9908\n",
            "\n",
            "\n"
          ],
          "name": "stdout"
        }
      ]
    }
  ]
}