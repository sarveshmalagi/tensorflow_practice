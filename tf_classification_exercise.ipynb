{
  "nbformat": 4,
  "nbformat_minor": 0,
  "metadata": {
    "kernelspec": {
      "display_name": "Python 3",
      "language": "python",
      "name": "python3"
    },
    "language_info": {
      "codemirror_mode": {
        "name": "ipython",
        "version": 3
      },
      "file_extension": ".py",
      "mimetype": "text/x-python",
      "name": "python",
      "nbconvert_exporter": "python",
      "pygments_lexer": "ipython3",
      "version": "3.5.4"
    },
    "colab": {
      "name": "tf_classification_exercise.ipynb",
      "version": "0.3.2",
      "provenance": [],
      "collapsed_sections": [],
      "include_colab_link": true
    }
  },
  "cells": [
    {
      "cell_type": "markdown",
      "metadata": {
        "id": "view-in-github",
        "colab_type": "text"
      },
      "source": [
        "<a href=\"https://colab.research.google.com/github/sarveshmalagi/tensorflow_practice/blob/master/tf_classification_exercise.ipynb\" target=\"_parent\"><img src=\"https://colab.research.google.com/assets/colab-badge.svg\" alt=\"Open In Colab\"/></a>"
      ]
    },
    {
      "cell_type": "markdown",
      "metadata": {
        "collapsed": true,
        "id": "o8TtYVRN35hY",
        "colab_type": "text"
      },
      "source": [
        "# Classification Exercise"
      ]
    },
    {
      "cell_type": "markdown",
      "metadata": {
        "id": "etOf0Jxh35hZ",
        "colab_type": "text"
      },
      "source": [
        "We'll be working with some California Census Data, we'll be trying to use various features of an individual to predict what class of income they belogn in (>50k or <=50k). \n",
        "\n",
        "Here is some information about the data:"
      ]
    },
    {
      "cell_type": "markdown",
      "metadata": {
        "id": "WqzrJ8jH35hZ",
        "colab_type": "text"
      },
      "source": [
        "<table>\n",
        "<thead>\n",
        "<tr>\n",
        "<th>Column Name</th>\n",
        "<th>Type</th>\n",
        "<th>Description</th>\n",
        "</tr>\n",
        "</thead>\n",
        "<tbody>\n",
        "<tr>\n",
        "<td>age</td>\n",
        "<td>Continuous</td>\n",
        "<td>The age of the individual</td>\n",
        "</tr>\n",
        "<tr>\n",
        "<td>workclass</td>\n",
        "<td>Categorical</td>\n",
        "<td>The type of employer the  individual has (government,  military, private, etc.).</td>\n",
        "</tr>\n",
        "<tr>\n",
        "<td>fnlwgt</td>\n",
        "<td>Continuous</td>\n",
        "<td>The number of people the census  takers believe that observation  represents (sample weight). This  variable will not be used.</td>\n",
        "</tr>\n",
        "<tr>\n",
        "<td>education</td>\n",
        "<td>Categorical</td>\n",
        "<td>The highest level of education  achieved for that individual.</td>\n",
        "</tr>\n",
        "<tr>\n",
        "<td>education_num</td>\n",
        "<td>Continuous</td>\n",
        "<td>The highest level of education in  numerical form.</td>\n",
        "</tr>\n",
        "<tr>\n",
        "<td>marital_status</td>\n",
        "<td>Categorical</td>\n",
        "<td>Marital status of the individual.</td>\n",
        "</tr>\n",
        "<tr>\n",
        "<td>occupation</td>\n",
        "<td>Categorical</td>\n",
        "<td>The occupation of the individual.</td>\n",
        "</tr>\n",
        "<tr>\n",
        "<td>relationship</td>\n",
        "<td>Categorical</td>\n",
        "<td>Wife, Own-child, Husband,  Not-in-family, Other-relative,  Unmarried.</td>\n",
        "</tr>\n",
        "<tr>\n",
        "<td>race</td>\n",
        "<td>Categorical</td>\n",
        "<td>White, Asian-Pac-Islander,  Amer-Indian-Eskimo, Other, Black.</td>\n",
        "</tr>\n",
        "<tr>\n",
        "<td>gender</td>\n",
        "<td>Categorical</td>\n",
        "<td>Female, Male.</td>\n",
        "</tr>\n",
        "<tr>\n",
        "<td>capital_gain</td>\n",
        "<td>Continuous</td>\n",
        "<td>Capital gains recorded.</td>\n",
        "</tr>\n",
        "<tr>\n",
        "<td>capital_loss</td>\n",
        "<td>Continuous</td>\n",
        "<td>Capital Losses recorded.</td>\n",
        "</tr>\n",
        "<tr>\n",
        "<td>hours_per_week</td>\n",
        "<td>Continuous</td>\n",
        "<td>Hours worked per week.</td>\n",
        "</tr>\n",
        "<tr>\n",
        "<td>native_country</td>\n",
        "<td>Categorical</td>\n",
        "<td>Country of origin of the  individual.</td>\n",
        "</tr>\n",
        "<tr>\n",
        "<td>income</td>\n",
        "<td>Categorical</td>\n",
        "<td>\"&gt;50K\" or \"&lt;=50K\", meaning  whether the person makes more  than \\$50,000 annually.</td>\n",
        "</tr>\n",
        "</tbody>\n",
        "</table>"
      ]
    },
    {
      "cell_type": "markdown",
      "metadata": {
        "id": "QTSPDfFF35ha",
        "colab_type": "text"
      },
      "source": [
        "## Follow the Directions in Bold. If you get stuck, check out the solutions lecture."
      ]
    },
    {
      "cell_type": "markdown",
      "metadata": {
        "id": "GuiOwTl635ha",
        "colab_type": "text"
      },
      "source": [
        "### THE DATA"
      ]
    },
    {
      "cell_type": "markdown",
      "metadata": {
        "id": "J3dVfkx235hb",
        "colab_type": "text"
      },
      "source": [
        "** Read in the census_data.csv data with pandas**"
      ]
    },
    {
      "cell_type": "code",
      "metadata": {
        "id": "njP41MaW35hc",
        "colab_type": "code",
        "colab": {}
      },
      "source": [
        "from google.colab import files\n",
        "files.upload()"
      ],
      "execution_count": 0,
      "outputs": []
    },
    {
      "cell_type": "code",
      "metadata": {
        "id": "R0sxamXH35hf",
        "colab_type": "code",
        "colab": {}
      },
      "source": [
        "import pandas as pd\n",
        "import numpy as np\n",
        "import tensorflow as tf"
      ],
      "execution_count": 0,
      "outputs": []
    },
    {
      "cell_type": "code",
      "metadata": {
        "id": "d0voLaMd5TzX",
        "colab_type": "code",
        "colab": {}
      },
      "source": [
        "census_df = pd.read_csv('census_data.csv')"
      ],
      "execution_count": 0,
      "outputs": []
    },
    {
      "cell_type": "code",
      "metadata": {
        "id": "aRp1HQ9v35hg",
        "colab_type": "code",
        "colab": {}
      },
      "source": [
        "census_df.head(20)"
      ],
      "execution_count": 0,
      "outputs": []
    },
    {
      "cell_type": "markdown",
      "metadata": {
        "id": "LfjesK2s35hj",
        "colab_type": "text"
      },
      "source": [
        "** TensorFlow won't be able to understand strings as labels, you'll need to use pandas .apply() method to apply a custom function that converts them to 0s and 1s. This might be hard if you aren't very familiar with pandas, so feel free to take a peek at the solutions for this part.**\n",
        "\n",
        "** Convert the Label column to 0s and 1s instead of strings.**"
      ]
    },
    {
      "cell_type": "code",
      "metadata": {
        "id": "X_vLcKs75-gO",
        "colab_type": "code",
        "colab": {}
      },
      "source": [
        "census_df['income_bracket'] = census_df['income_bracket'].apply(lambda x : 0 if '<=50K' in str(x) else 1)"
      ],
      "execution_count": 0,
      "outputs": []
    },
    {
      "cell_type": "code",
      "metadata": {
        "id": "N4SXXzJw35hk",
        "colab_type": "code",
        "colab": {}
      },
      "source": [
        "census_df.head(20)"
      ],
      "execution_count": 0,
      "outputs": []
    },
    {
      "cell_type": "code",
      "metadata": {
        "id": "0heI6EbH35hm",
        "colab_type": "code",
        "colab": {}
      },
      "source": [
        "target = census_df['income_bracket']\n",
        "del census_df['income_bracket']"
      ],
      "execution_count": 0,
      "outputs": []
    },
    {
      "cell_type": "markdown",
      "metadata": {
        "id": "9kFieoYy35hs",
        "colab_type": "text"
      },
      "source": [
        "### Perform a Train Test Split on the Data"
      ]
    },
    {
      "cell_type": "code",
      "metadata": {
        "id": "kELVojxm35ht",
        "colab_type": "code",
        "colab": {}
      },
      "source": [
        "from sklearn.model_selection import train_test_split"
      ],
      "execution_count": 0,
      "outputs": []
    },
    {
      "cell_type": "code",
      "metadata": {
        "id": "9ZGhlmIZ35hv",
        "colab_type": "code",
        "colab": {}
      },
      "source": [
        "X_train, X_test, Y_train, Y_test = train_test_split(census_df, target, test_size=0.3, random_state=101)"
      ],
      "execution_count": 0,
      "outputs": []
    },
    {
      "cell_type": "markdown",
      "metadata": {
        "id": "PdNG5z3K35hy",
        "colab_type": "text"
      },
      "source": [
        "### Create the Feature Columns for tf.esitmator\n",
        "\n",
        "** Take note of categorical vs continuous values! **"
      ]
    },
    {
      "cell_type": "code",
      "metadata": {
        "id": "Kb1ckhqK35hy",
        "colab_type": "code",
        "colab": {
          "base_uri": "https://localhost:8080/",
          "height": 204
        },
        "outputId": "8abb1b8a-c57f-4468-f2c8-888d5176ad95"
      },
      "source": [
        "X_train.head()"
      ],
      "execution_count": 21,
      "outputs": [
        {
          "output_type": "execute_result",
          "data": {
            "text/html": [
              "<div>\n",
              "<style scoped>\n",
              "    .dataframe tbody tr th:only-of-type {\n",
              "        vertical-align: middle;\n",
              "    }\n",
              "\n",
              "    .dataframe tbody tr th {\n",
              "        vertical-align: top;\n",
              "    }\n",
              "\n",
              "    .dataframe thead th {\n",
              "        text-align: right;\n",
              "    }\n",
              "</style>\n",
              "<table border=\"1\" class=\"dataframe\">\n",
              "  <thead>\n",
              "    <tr style=\"text-align: right;\">\n",
              "      <th></th>\n",
              "      <th>age</th>\n",
              "      <th>workclass</th>\n",
              "      <th>education</th>\n",
              "      <th>education_num</th>\n",
              "      <th>marital_status</th>\n",
              "      <th>occupation</th>\n",
              "      <th>relationship</th>\n",
              "      <th>race</th>\n",
              "      <th>gender</th>\n",
              "      <th>capital_gain</th>\n",
              "      <th>capital_loss</th>\n",
              "      <th>hours_per_week</th>\n",
              "      <th>native_country</th>\n",
              "    </tr>\n",
              "  </thead>\n",
              "  <tbody>\n",
              "    <tr>\n",
              "      <th>20895</th>\n",
              "      <td>22</td>\n",
              "      <td>Private</td>\n",
              "      <td>HS-grad</td>\n",
              "      <td>9</td>\n",
              "      <td>Never-married</td>\n",
              "      <td>Adm-clerical</td>\n",
              "      <td>Own-child</td>\n",
              "      <td>White</td>\n",
              "      <td>Female</td>\n",
              "      <td>0</td>\n",
              "      <td>0</td>\n",
              "      <td>28</td>\n",
              "      <td>United-States</td>\n",
              "    </tr>\n",
              "    <tr>\n",
              "      <th>3384</th>\n",
              "      <td>47</td>\n",
              "      <td>Private</td>\n",
              "      <td>HS-grad</td>\n",
              "      <td>9</td>\n",
              "      <td>Married-civ-spouse</td>\n",
              "      <td>Machine-op-inspct</td>\n",
              "      <td>Wife</td>\n",
              "      <td>Black</td>\n",
              "      <td>Female</td>\n",
              "      <td>15024</td>\n",
              "      <td>0</td>\n",
              "      <td>40</td>\n",
              "      <td>United-States</td>\n",
              "    </tr>\n",
              "    <tr>\n",
              "      <th>1832</th>\n",
              "      <td>46</td>\n",
              "      <td>Local-gov</td>\n",
              "      <td>Some-college</td>\n",
              "      <td>10</td>\n",
              "      <td>Married-civ-spouse</td>\n",
              "      <td>Prof-specialty</td>\n",
              "      <td>Husband</td>\n",
              "      <td>White</td>\n",
              "      <td>Male</td>\n",
              "      <td>0</td>\n",
              "      <td>0</td>\n",
              "      <td>24</td>\n",
              "      <td>United-States</td>\n",
              "    </tr>\n",
              "    <tr>\n",
              "      <th>18919</th>\n",
              "      <td>46</td>\n",
              "      <td>State-gov</td>\n",
              "      <td>Some-college</td>\n",
              "      <td>10</td>\n",
              "      <td>Divorced</td>\n",
              "      <td>Adm-clerical</td>\n",
              "      <td>Unmarried</td>\n",
              "      <td>White</td>\n",
              "      <td>Female</td>\n",
              "      <td>0</td>\n",
              "      <td>0</td>\n",
              "      <td>48</td>\n",
              "      <td>United-States</td>\n",
              "    </tr>\n",
              "    <tr>\n",
              "      <th>31685</th>\n",
              "      <td>60</td>\n",
              "      <td>Private</td>\n",
              "      <td>HS-grad</td>\n",
              "      <td>9</td>\n",
              "      <td>Married-civ-spouse</td>\n",
              "      <td>Adm-clerical</td>\n",
              "      <td>Husband</td>\n",
              "      <td>White</td>\n",
              "      <td>Male</td>\n",
              "      <td>0</td>\n",
              "      <td>0</td>\n",
              "      <td>40</td>\n",
              "      <td>United-States</td>\n",
              "    </tr>\n",
              "  </tbody>\n",
              "</table>\n",
              "</div>"
            ],
            "text/plain": [
              "       age   workclass  ... hours_per_week  native_country\n",
              "20895   22     Private  ...             28   United-States\n",
              "3384    47     Private  ...             40   United-States\n",
              "1832    46   Local-gov  ...             24   United-States\n",
              "18919   46   State-gov  ...             48   United-States\n",
              "31685   60     Private  ...             40   United-States\n",
              "\n",
              "[5 rows x 13 columns]"
            ]
          },
          "metadata": {
            "tags": []
          },
          "execution_count": 21
        }
      ]
    },
    {
      "cell_type": "code",
      "metadata": {
        "id": "1UhpWsj1CD5N",
        "colab_type": "code",
        "colab": {
          "base_uri": "https://localhost:8080/",
          "height": 34
        },
        "outputId": "54513b8f-48c5-456b-9a8d-b6b2bf8a9b6a"
      },
      "source": [
        "len(X_train['native_country'].unique())"
      ],
      "execution_count": 33,
      "outputs": [
        {
          "output_type": "execute_result",
          "data": {
            "text/plain": [
              "42"
            ]
          },
          "metadata": {
            "tags": []
          },
          "execution_count": 33
        }
      ]
    },
    {
      "cell_type": "markdown",
      "metadata": {
        "collapsed": true,
        "id": "EOUtmtds35h4",
        "colab_type": "text"
      },
      "source": [
        "** Create the tf.feature_columns for the categorical values. Use vocabulary lists or just use hash buckets. **"
      ]
    },
    {
      "cell_type": "code",
      "metadata": {
        "id": "SuFPg0BR35h1",
        "colab_type": "code",
        "colab": {}
      },
      "source": [
        "workclass = tf.feature_column.categorical_column_with_hash_bucket('workclass', hash_bucket_size=9)\n",
        "education = tf.feature_column.categorical_column_with_hash_bucket('education', hash_bucket_size=16)\n",
        "marital_status = tf.feature_column.categorical_column_with_hash_bucket('marital_status', hash_bucket_size=7)\n",
        "occupation = tf.feature_column.categorical_column_with_hash_bucket('occupation', hash_bucket_size=15)\n",
        "relationship = tf.feature_column.categorical_column_with_hash_bucket('relationship', hash_bucket_size=6)\n",
        "race = tf.feature_column.categorical_column_with_hash_bucket('race', hash_bucket_size=5)\n",
        "gender = tf.feature_column.categorical_column_with_hash_bucket('gender', hash_bucket_size=2)\n",
        "native_country = tf.feature_column.categorical_column_with_hash_bucket('native_country', hash_bucket_size=42)"
      ],
      "execution_count": 0,
      "outputs": []
    },
    {
      "cell_type": "markdown",
      "metadata": {
        "id": "ZVtSrPti35h-",
        "colab_type": "text"
      },
      "source": [
        "** Create the continuous feature_columns for the continuous values using numeric_column **"
      ]
    },
    {
      "cell_type": "code",
      "metadata": {
        "id": "mTIvqXSC35h8",
        "colab_type": "code",
        "colab": {}
      },
      "source": [
        "age = tf.feature_column.numeric_column('age')\n",
        "education_num = tf.feature_column.numeric_column('education_num')\n",
        "capital_gain = tf.feature_column.numeric_column('capital_gain')\n",
        "capital_loss = tf.feature_column.numeric_column('capital_loss')\n",
        "hours_per_week = tf.feature_column.numeric_column('hours_per_week')"
      ],
      "execution_count": 0,
      "outputs": []
    },
    {
      "cell_type": "markdown",
      "metadata": {
        "id": "FC_mmjA635iA",
        "colab_type": "text"
      },
      "source": [
        "** Put all these variables into a single list with the variable name feat_cols **"
      ]
    },
    {
      "cell_type": "code",
      "metadata": {
        "id": "uS1Dqe5K35iB",
        "colab_type": "code",
        "colab": {}
      },
      "source": [
        "feat_cols = [workclass, education, marital_status, occupation, relationship, race, gender, native_country, age, education_num, capital_gain, capital_loss, hours_per_week]"
      ],
      "execution_count": 0,
      "outputs": []
    },
    {
      "cell_type": "markdown",
      "metadata": {
        "id": "n-aUGNox35iD",
        "colab_type": "text"
      },
      "source": [
        "### Create Input Function\n",
        "\n",
        "** Batch_size is up to you. But do make sure to shuffle!**"
      ]
    },
    {
      "cell_type": "code",
      "metadata": {
        "id": "mpVkEqJG35iD",
        "colab_type": "code",
        "colab": {}
      },
      "source": [
        "input_func = tf.estimator.inputs.pandas_input_fn(x=X_train, y=Y_train,\n",
        "                                                batch_size=10, num_epochs=1000,\n",
        "                                                shuffle=True)"
      ],
      "execution_count": 0,
      "outputs": []
    },
    {
      "cell_type": "markdown",
      "metadata": {
        "id": "kEVGrJdj35iF",
        "colab_type": "text"
      },
      "source": [
        "#### Create your model with tf.estimator\n",
        "\n",
        "**Create a LinearClassifier.(If you want to use a DNNClassifier, keep in mind you'll need to create embedded columns out of the cateogrical feature that use strings, check out the previous lecture on this for more info.)**"
      ]
    },
    {
      "cell_type": "code",
      "metadata": {
        "id": "_Nc9lC2i35iG",
        "colab_type": "code",
        "colab": {
          "base_uri": "https://localhost:8080/",
          "height": 190
        },
        "outputId": "776bb26e-1069-445b-b534-45af619689cb"
      },
      "source": [
        "model = tf.estimator.LinearClassifier(feature_columns=feat_cols, n_classes=2)"
      ],
      "execution_count": 40,
      "outputs": [
        {
          "output_type": "stream",
          "text": [
            "INFO:tensorflow:Using default config.\n",
            "WARNING:tensorflow:Using temporary folder as model directory: /tmp/tmplfxyd511\n",
            "INFO:tensorflow:Using config: {'_model_dir': '/tmp/tmplfxyd511', '_tf_random_seed': None, '_save_summary_steps': 100, '_save_checkpoints_steps': None, '_save_checkpoints_secs': 600, '_session_config': allow_soft_placement: true\n",
            "graph_options {\n",
            "  rewrite_options {\n",
            "    meta_optimizer_iterations: ONE\n",
            "  }\n",
            "}\n",
            ", '_keep_checkpoint_max': 5, '_keep_checkpoint_every_n_hours': 10000, '_log_step_count_steps': 100, '_train_distribute': None, '_device_fn': None, '_protocol': None, '_eval_distribute': None, '_experimental_distribute': None, '_experimental_max_worker_delay_secs': None, '_service': None, '_cluster_spec': <tensorflow.python.training.server_lib.ClusterSpec object at 0x7f4d5f2360f0>, '_task_type': 'worker', '_task_id': 0, '_global_id_in_cluster': 0, '_master': '', '_evaluation_master': '', '_is_chief': True, '_num_ps_replicas': 0, '_num_worker_replicas': 1}\n"
          ],
          "name": "stdout"
        }
      ]
    },
    {
      "cell_type": "markdown",
      "metadata": {
        "id": "vdtlKJJ-35iK",
        "colab_type": "text"
      },
      "source": [
        "** Train your model on the data, for at least 5000 steps. **"
      ]
    },
    {
      "cell_type": "code",
      "metadata": {
        "id": "yXfhu35y35iL",
        "colab_type": "code",
        "colab": {}
      },
      "source": [
        "model.train(input_fn=input_func, steps=5000)"
      ],
      "execution_count": 0,
      "outputs": []
    },
    {
      "cell_type": "markdown",
      "metadata": {
        "id": "52zkf6_I35iN",
        "colab_type": "text"
      },
      "source": [
        "### Evaluation\n",
        "\n",
        "** Create a prediction input function. Remember to only supprt X_test data and keep shuffle=False. **"
      ]
    },
    {
      "cell_type": "code",
      "metadata": {
        "id": "ajh7eCra35iO",
        "colab_type": "code",
        "colab": {}
      },
      "source": [
        "pred_input_fn = tf.estimator.inputs.pandas_input_fn(x=X_test,\n",
        "                                                   batch_size=10,\n",
        "                                                   num_epochs=1,\n",
        "                                                   shuffle=False)"
      ],
      "execution_count": 0,
      "outputs": []
    },
    {
      "cell_type": "markdown",
      "metadata": {
        "id": "YO5imvEb35iQ",
        "colab_type": "text"
      },
      "source": [
        "** Use model.predict() and pass in your input function. This will produce a generator of predictions, which you can then transform into a list, with list() **"
      ]
    },
    {
      "cell_type": "code",
      "metadata": {
        "id": "F11hmAES35iR",
        "colab_type": "code",
        "colab": {
          "base_uri": "https://localhost:8080/",
          "height": 119
        },
        "outputId": "fec96d3c-53dd-460c-8221-70eae29f1e4f"
      },
      "source": [
        "predictions = list(model.predict(pred_input_fn))"
      ],
      "execution_count": 54,
      "outputs": [
        {
          "output_type": "stream",
          "text": [
            "INFO:tensorflow:Calling model_fn.\n",
            "INFO:tensorflow:Done calling model_fn.\n",
            "INFO:tensorflow:Graph was finalized.\n",
            "INFO:tensorflow:Restoring parameters from /tmp/tmplfxyd511/model.ckpt-5000\n",
            "INFO:tensorflow:Running local_init_op.\n",
            "INFO:tensorflow:Done running local_init_op.\n"
          ],
          "name": "stdout"
        }
      ]
    },
    {
      "cell_type": "markdown",
      "metadata": {
        "id": "PFS2qsi035iT",
        "colab_type": "text"
      },
      "source": [
        "** Each item in your list will look like this: **"
      ]
    },
    {
      "cell_type": "code",
      "metadata": {
        "id": "7Whpt3lo35iU",
        "colab_type": "code",
        "colab": {
          "base_uri": "https://localhost:8080/",
          "height": 612
        },
        "outputId": "051498d8-1ef0-4caa-e5e8-17adda5e68fd"
      },
      "source": [
        "predictions[:5]"
      ],
      "execution_count": 55,
      "outputs": [
        {
          "output_type": "execute_result",
          "data": {
            "text/plain": [
              "[{'all_class_ids': array([0, 1], dtype=int32),\n",
              "  'all_classes': array([b'0', b'1'], dtype=object),\n",
              "  'class_ids': array([0]),\n",
              "  'classes': array([b'0'], dtype=object),\n",
              "  'logistic': array([0.11884972], dtype=float32),\n",
              "  'logits': array([-2.0033684], dtype=float32),\n",
              "  'probabilities': array([0.8811503 , 0.11884972], dtype=float32)},\n",
              " {'all_class_ids': array([0, 1], dtype=int32),\n",
              "  'all_classes': array([b'0', b'1'], dtype=object),\n",
              "  'class_ids': array([0]),\n",
              "  'classes': array([b'0'], dtype=object),\n",
              "  'logistic': array([0.00643086], dtype=float32),\n",
              "  'logits': array([-5.0401974], dtype=float32),\n",
              "  'probabilities': array([0.99356914, 0.00643085], dtype=float32)},\n",
              " {'all_class_ids': array([0, 1], dtype=int32),\n",
              "  'all_classes': array([b'0', b'1'], dtype=object),\n",
              "  'class_ids': array([0]),\n",
              "  'classes': array([b'0'], dtype=object),\n",
              "  'logistic': array([0.16252816], dtype=float32),\n",
              "  'logits': array([-1.6395364], dtype=float32),\n",
              "  'probabilities': array([0.83747184, 0.16252816], dtype=float32)},\n",
              " {'all_class_ids': array([0, 1], dtype=int32),\n",
              "  'all_classes': array([b'0', b'1'], dtype=object),\n",
              "  'class_ids': array([0]),\n",
              "  'classes': array([b'0'], dtype=object),\n",
              "  'logistic': array([0.01352525], dtype=float32),\n",
              "  'logits': array([-4.2895813], dtype=float32),\n",
              "  'probabilities': array([0.9864748 , 0.01352523], dtype=float32)},\n",
              " {'all_class_ids': array([0, 1], dtype=int32),\n",
              "  'all_classes': array([b'0', b'1'], dtype=object),\n",
              "  'class_ids': array([1]),\n",
              "  'classes': array([b'1'], dtype=object),\n",
              "  'logistic': array([0.97725105], dtype=float32),\n",
              "  'logits': array([3.7602272], dtype=float32),\n",
              "  'probabilities': array([0.02274889, 0.9772511 ], dtype=float32)}]"
            ]
          },
          "metadata": {
            "tags": []
          },
          "execution_count": 55
        }
      ]
    },
    {
      "cell_type": "markdown",
      "metadata": {
        "id": "H11Crxlb35iW",
        "colab_type": "text"
      },
      "source": [
        "** Create a list of only the class_ids key values from the prediction list of dictionaries, these are the predictions you will use to compare against the real y_test values. **"
      ]
    },
    {
      "cell_type": "code",
      "metadata": {
        "id": "thjGVPsn35iW",
        "colab_type": "code",
        "colab": {}
      },
      "source": [
        "pred_classes = [np.argmax(prediction['probabilities']) for prediction in predictions]"
      ],
      "execution_count": 0,
      "outputs": []
    },
    {
      "cell_type": "code",
      "metadata": {
        "id": "S1u328VU35iY",
        "colab_type": "code",
        "colab": {
          "base_uri": "https://localhost:8080/",
          "height": 34
        },
        "outputId": "788f6f04-37f8-4b4b-bfee-7995079b8bf7"
      },
      "source": [
        "len(list(pred_classes))"
      ],
      "execution_count": 61,
      "outputs": [
        {
          "output_type": "execute_result",
          "data": {
            "text/plain": [
              "9769"
            ]
          },
          "metadata": {
            "tags": []
          },
          "execution_count": 61
        }
      ]
    },
    {
      "cell_type": "markdown",
      "metadata": {
        "id": "ycfQ8WXr35iZ",
        "colab_type": "text"
      },
      "source": [
        "** Import classification_report from sklearn.metrics and then see if you can figure out how to use it to easily get a full report of your model's performance on the test data. **"
      ]
    },
    {
      "cell_type": "code",
      "metadata": {
        "id": "elFY09Fd35ia",
        "colab_type": "code",
        "colab": {}
      },
      "source": [
        "from sklearn.metrics import classification_report"
      ],
      "execution_count": 0,
      "outputs": []
    },
    {
      "cell_type": "code",
      "metadata": {
        "id": "M2mxFcUP35ic",
        "colab_type": "code",
        "colab": {
          "base_uri": "https://localhost:8080/",
          "height": 170
        },
        "outputId": "db6d2440-35e0-444d-cd79-ff9959a2184b"
      },
      "source": [
        "print(classification_report(Y_test, pred_classes, target_names=['<=50k', '>50k']))"
      ],
      "execution_count": 66,
      "outputs": [
        {
          "output_type": "stream",
          "text": [
            "              precision    recall  f1-score   support\n",
            "\n",
            "       <=50k       0.85      0.94      0.89      7436\n",
            "        >50k       0.72      0.46      0.56      2333\n",
            "\n",
            "    accuracy                           0.83      9769\n",
            "   macro avg       0.78      0.70      0.73      9769\n",
            "weighted avg       0.82      0.83      0.81      9769\n",
            "\n"
          ],
          "name": "stdout"
        }
      ]
    }
  ]
}