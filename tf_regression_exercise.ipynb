{
  "nbformat": 4,
  "nbformat_minor": 0,
  "metadata": {
    "kernelspec": {
      "display_name": "Python 3",
      "language": "python",
      "name": "python3"
    },
    "language_info": {
      "codemirror_mode": {
        "name": "ipython",
        "version": 3
      },
      "file_extension": ".py",
      "mimetype": "text/x-python",
      "name": "python",
      "nbconvert_exporter": "python",
      "pygments_lexer": "ipython3",
      "version": "3.5.4"
    },
    "colab": {
      "name": "tf_regression_exercise.ipynb",
      "version": "0.3.2",
      "provenance": [],
      "collapsed_sections": []
    }
  },
  "cells": [
    {
      "cell_type": "markdown",
      "metadata": {
        "id": "oIfzz-Jzn9O1",
        "colab_type": "text"
      },
      "source": [
        "# Regression Exercise \n",
        "\n",
        "California Housing Data\n",
        "\n",
        "This data set contains information about all the block groups in California from the 1990 Census. In this sample a block group on average includes 1425.5 individuals living in a geographically compact area. \n",
        "\n",
        "The task is to aproximate the median house value of each block from the values of the rest of the variables. \n",
        "\n",
        " It has been obtained from the LIACC repository. The original page where the data set can be found is: http://www.liaad.up.pt/~ltorgo/Regression/DataSets.html.\n",
        " "
      ]
    },
    {
      "cell_type": "markdown",
      "metadata": {
        "collapsed": true,
        "id": "9W6d3b87n9O2",
        "colab_type": "text"
      },
      "source": [
        "The Features:\n",
        " \n",
        "* housingMedianAge: continuous. \n",
        "* totalRooms: continuous. \n",
        "* totalBedrooms: continuous. \n",
        "* population: continuous. \n",
        "* households: continuous. \n",
        "* medianIncome: continuous. \n",
        "* medianHouseValue: continuous. "
      ]
    },
    {
      "cell_type": "code",
      "metadata": {
        "id": "z23k2XMfrBhE",
        "colab_type": "code",
        "colab": {}
      },
      "source": [
        "from google.colab import files\n",
        "files.upload()"
      ],
      "execution_count": 0,
      "outputs": []
    },
    {
      "cell_type": "code",
      "metadata": {
        "id": "7_f3K8LtrqSb",
        "colab_type": "code",
        "colab": {}
      },
      "source": [
        "import pandas as pd\n",
        "import numpy as np\n",
        "import tensorflow as tf"
      ],
      "execution_count": 0,
      "outputs": []
    },
    {
      "cell_type": "markdown",
      "metadata": {
        "id": "QQlb3Lqln9O2",
        "colab_type": "text"
      },
      "source": [
        "## The Data"
      ]
    },
    {
      "cell_type": "markdown",
      "metadata": {
        "id": "5f3bsVFRn9O3",
        "colab_type": "text"
      },
      "source": [
        "** Import the cal_housing_clean.csv file with pandas. Separate it into a training (70%) and testing set(30%).**"
      ]
    },
    {
      "cell_type": "code",
      "metadata": {
        "id": "klnuTTSnn9O4",
        "colab_type": "code",
        "colab": {}
      },
      "source": [
        "housing_df = pd.read_csv('cal_housing_clean.csv')"
      ],
      "execution_count": 0,
      "outputs": []
    },
    {
      "cell_type": "code",
      "metadata": {
        "id": "bo2Li01xn9O7",
        "colab_type": "code",
        "colab": {}
      },
      "source": [
        "housing_df.head()"
      ],
      "execution_count": 0,
      "outputs": []
    },
    {
      "cell_type": "code",
      "metadata": {
        "id": "noFUFSS4jgLN",
        "colab_type": "code",
        "colab": {}
      },
      "source": [
        "housing_df['medianHouseValue'] = np.log(housing_df['medianHouseValue'])"
      ],
      "execution_count": 0,
      "outputs": []
    },
    {
      "cell_type": "code",
      "metadata": {
        "id": "0dPX3demr7wD",
        "colab_type": "code",
        "colab": {}
      },
      "source": [
        "from sklearn.model_selection import train_test_split"
      ],
      "execution_count": 0,
      "outputs": []
    },
    {
      "cell_type": "code",
      "metadata": {
        "id": "y6M6Y4uksbUv",
        "colab_type": "code",
        "colab": {}
      },
      "source": [
        "target = housing_df['medianHouseValue']\n",
        "X_train, X_test, Y_train, Y_test = train_test_split(housing_df, target, test_size=0.3, random_state=101)"
      ],
      "execution_count": 0,
      "outputs": []
    },
    {
      "cell_type": "code",
      "metadata": {
        "id": "slpxLOdYn9O8",
        "colab_type": "code",
        "outputId": "00922148-734a-4c8e-9f34-7cac5a4a4f87",
        "colab": {
          "base_uri": "https://localhost:8080/",
          "height": 204
        }
      },
      "source": [
        "X_train.head()"
      ],
      "execution_count": 115,
      "outputs": [
        {
          "output_type": "execute_result",
          "data": {
            "text/html": [
              "<div>\n",
              "<style scoped>\n",
              "    .dataframe tbody tr th:only-of-type {\n",
              "        vertical-align: middle;\n",
              "    }\n",
              "\n",
              "    .dataframe tbody tr th {\n",
              "        vertical-align: top;\n",
              "    }\n",
              "\n",
              "    .dataframe thead th {\n",
              "        text-align: right;\n",
              "    }\n",
              "</style>\n",
              "<table border=\"1\" class=\"dataframe\">\n",
              "  <thead>\n",
              "    <tr style=\"text-align: right;\">\n",
              "      <th></th>\n",
              "      <th>housingMedianAge</th>\n",
              "      <th>totalRooms</th>\n",
              "      <th>totalBedrooms</th>\n",
              "      <th>population</th>\n",
              "      <th>households</th>\n",
              "      <th>medianIncome</th>\n",
              "      <th>medianHouseValue</th>\n",
              "    </tr>\n",
              "  </thead>\n",
              "  <tbody>\n",
              "    <tr>\n",
              "      <th>6761</th>\n",
              "      <td>19.0</td>\n",
              "      <td>2742.0</td>\n",
              "      <td>756.0</td>\n",
              "      <td>1396.0</td>\n",
              "      <td>703.0</td>\n",
              "      <td>2.5663</td>\n",
              "      <td>197500.0</td>\n",
              "    </tr>\n",
              "    <tr>\n",
              "      <th>3010</th>\n",
              "      <td>32.0</td>\n",
              "      <td>444.0</td>\n",
              "      <td>102.0</td>\n",
              "      <td>242.0</td>\n",
              "      <td>87.0</td>\n",
              "      <td>1.1528</td>\n",
              "      <td>150000.0</td>\n",
              "    </tr>\n",
              "    <tr>\n",
              "      <th>7812</th>\n",
              "      <td>35.0</td>\n",
              "      <td>994.0</td>\n",
              "      <td>203.0</td>\n",
              "      <td>602.0</td>\n",
              "      <td>185.0</td>\n",
              "      <td>3.5865</td>\n",
              "      <td>178000.0</td>\n",
              "    </tr>\n",
              "    <tr>\n",
              "      <th>8480</th>\n",
              "      <td>35.0</td>\n",
              "      <td>1281.0</td>\n",
              "      <td>219.0</td>\n",
              "      <td>710.0</td>\n",
              "      <td>184.0</td>\n",
              "      <td>4.8304</td>\n",
              "      <td>152800.0</td>\n",
              "    </tr>\n",
              "    <tr>\n",
              "      <th>1051</th>\n",
              "      <td>16.0</td>\n",
              "      <td>1257.0</td>\n",
              "      <td>231.0</td>\n",
              "      <td>559.0</td>\n",
              "      <td>213.0</td>\n",
              "      <td>4.4531</td>\n",
              "      <td>144300.0</td>\n",
              "    </tr>\n",
              "  </tbody>\n",
              "</table>\n",
              "</div>"
            ],
            "text/plain": [
              "      housingMedianAge  totalRooms  ...  medianIncome  medianHouseValue\n",
              "6761              19.0      2742.0  ...        2.5663          197500.0\n",
              "3010              32.0       444.0  ...        1.1528          150000.0\n",
              "7812              35.0       994.0  ...        3.5865          178000.0\n",
              "8480              35.0      1281.0  ...        4.8304          152800.0\n",
              "1051              16.0      1257.0  ...        4.4531          144300.0\n",
              "\n",
              "[5 rows x 7 columns]"
            ]
          },
          "metadata": {
            "tags": []
          },
          "execution_count": 115
        }
      ]
    },
    {
      "cell_type": "markdown",
      "metadata": {
        "id": "fJaCYUwgn9PL",
        "colab_type": "text"
      },
      "source": [
        "### Scale the Feature Data\n",
        "\n",
        "** Use sklearn preprocessing to create a MinMaxScaler for the feature data. Fit this scaler only to the training data. Then use it to transform X_test and X_train. Then use the scaled X_test and X_train along with pd.Dataframe to re-create two dataframes of scaled data.**"
      ]
    },
    {
      "cell_type": "code",
      "metadata": {
        "id": "3a_eDjXEn9PL",
        "colab_type": "code",
        "colab": {}
      },
      "source": [
        "from sklearn.preprocessing import MinMaxScaler"
      ],
      "execution_count": 0,
      "outputs": []
    },
    {
      "cell_type": "code",
      "metadata": {
        "id": "k7uZPH7mn9PO",
        "colab_type": "code",
        "colab": {}
      },
      "source": [
        "scaler = MinMaxScaler(copy=True, feature_range=(0, 1))"
      ],
      "execution_count": 0,
      "outputs": []
    },
    {
      "cell_type": "code",
      "metadata": {
        "id": "j7meMwDun9PQ",
        "colab_type": "code",
        "colab": {}
      },
      "source": [
        "X_train[X_train.columns] = scaler.fit_transform(X_train[X_train.columns])\n",
        "X_test[X_train.columns] = scaler.fit_transform(X_test[X_test.columns])"
      ],
      "execution_count": 0,
      "outputs": []
    },
    {
      "cell_type": "code",
      "metadata": {
        "id": "yb42yDeHfrc0",
        "colab_type": "code",
        "colab": {}
      },
      "source": [
        "del X_train['medianHouseValue']\n",
        "del X_test['medianHouseValue']"
      ],
      "execution_count": 0,
      "outputs": []
    },
    {
      "cell_type": "code",
      "metadata": {
        "id": "xYryI7h7n9PT",
        "colab_type": "code",
        "colab": {
          "base_uri": "https://localhost:8080/",
          "height": 204
        },
        "outputId": "27832422-60d5-44f2-d4c9-ec1c7adf333b"
      },
      "source": [
        "X_train.head()"
      ],
      "execution_count": 120,
      "outputs": [
        {
          "output_type": "execute_result",
          "data": {
            "text/html": [
              "<div>\n",
              "<style scoped>\n",
              "    .dataframe tbody tr th:only-of-type {\n",
              "        vertical-align: middle;\n",
              "    }\n",
              "\n",
              "    .dataframe tbody tr th {\n",
              "        vertical-align: top;\n",
              "    }\n",
              "\n",
              "    .dataframe thead th {\n",
              "        text-align: right;\n",
              "    }\n",
              "</style>\n",
              "<table border=\"1\" class=\"dataframe\">\n",
              "  <thead>\n",
              "    <tr style=\"text-align: right;\">\n",
              "      <th></th>\n",
              "      <th>housingMedianAge</th>\n",
              "      <th>totalRooms</th>\n",
              "      <th>totalBedrooms</th>\n",
              "      <th>population</th>\n",
              "      <th>households</th>\n",
              "      <th>medianIncome</th>\n",
              "    </tr>\n",
              "  </thead>\n",
              "  <tbody>\n",
              "    <tr>\n",
              "      <th>6761</th>\n",
              "      <td>0.352941</td>\n",
              "      <td>0.069688</td>\n",
              "      <td>0.117163</td>\n",
              "      <td>0.048769</td>\n",
              "      <td>0.115442</td>\n",
              "      <td>0.142508</td>\n",
              "    </tr>\n",
              "    <tr>\n",
              "      <th>3010</th>\n",
              "      <td>0.607843</td>\n",
              "      <td>0.011242</td>\n",
              "      <td>0.015673</td>\n",
              "      <td>0.008367</td>\n",
              "      <td>0.014142</td>\n",
              "      <td>0.045027</td>\n",
              "    </tr>\n",
              "    <tr>\n",
              "      <th>7812</th>\n",
              "      <td>0.666667</td>\n",
              "      <td>0.025230</td>\n",
              "      <td>0.031347</td>\n",
              "      <td>0.020971</td>\n",
              "      <td>0.030258</td>\n",
              "      <td>0.212866</td>\n",
              "    </tr>\n",
              "    <tr>\n",
              "      <th>8480</th>\n",
              "      <td>0.666667</td>\n",
              "      <td>0.032530</td>\n",
              "      <td>0.033830</td>\n",
              "      <td>0.024752</td>\n",
              "      <td>0.030094</td>\n",
              "      <td>0.298651</td>\n",
              "    </tr>\n",
              "    <tr>\n",
              "      <th>1051</th>\n",
              "      <td>0.294118</td>\n",
              "      <td>0.031919</td>\n",
              "      <td>0.035692</td>\n",
              "      <td>0.019466</td>\n",
              "      <td>0.034863</td>\n",
              "      <td>0.272631</td>\n",
              "    </tr>\n",
              "  </tbody>\n",
              "</table>\n",
              "</div>"
            ],
            "text/plain": [
              "      housingMedianAge  totalRooms  ...  households  medianIncome\n",
              "6761          0.352941    0.069688  ...    0.115442      0.142508\n",
              "3010          0.607843    0.011242  ...    0.014142      0.045027\n",
              "7812          0.666667    0.025230  ...    0.030258      0.212866\n",
              "8480          0.666667    0.032530  ...    0.030094      0.298651\n",
              "1051          0.294118    0.031919  ...    0.034863      0.272631\n",
              "\n",
              "[5 rows x 6 columns]"
            ]
          },
          "metadata": {
            "tags": []
          },
          "execution_count": 120
        }
      ]
    },
    {
      "cell_type": "code",
      "metadata": {
        "id": "RnxHxTuin9PU",
        "colab_type": "code",
        "colab": {
          "base_uri": "https://localhost:8080/",
          "height": 204
        },
        "outputId": "2badcac8-8754-4973-8049-cac155c7c8fa"
      },
      "source": [
        "X_test.head()"
      ],
      "execution_count": 121,
      "outputs": [
        {
          "output_type": "execute_result",
          "data": {
            "text/html": [
              "<div>\n",
              "<style scoped>\n",
              "    .dataframe tbody tr th:only-of-type {\n",
              "        vertical-align: middle;\n",
              "    }\n",
              "\n",
              "    .dataframe tbody tr th {\n",
              "        vertical-align: top;\n",
              "    }\n",
              "\n",
              "    .dataframe thead th {\n",
              "        text-align: right;\n",
              "    }\n",
              "</style>\n",
              "<table border=\"1\" class=\"dataframe\">\n",
              "  <thead>\n",
              "    <tr style=\"text-align: right;\">\n",
              "      <th></th>\n",
              "      <th>housingMedianAge</th>\n",
              "      <th>totalRooms</th>\n",
              "      <th>totalBedrooms</th>\n",
              "      <th>population</th>\n",
              "      <th>households</th>\n",
              "      <th>medianIncome</th>\n",
              "    </tr>\n",
              "  </thead>\n",
              "  <tbody>\n",
              "    <tr>\n",
              "      <th>16086</th>\n",
              "      <td>0.686275</td>\n",
              "      <td>0.064243</td>\n",
              "      <td>0.058586</td>\n",
              "      <td>0.020575</td>\n",
              "      <td>0.062094</td>\n",
              "      <td>0.353133</td>\n",
              "    </tr>\n",
              "    <tr>\n",
              "      <th>8816</th>\n",
              "      <td>0.705882</td>\n",
              "      <td>0.038015</td>\n",
              "      <td>0.026869</td>\n",
              "      <td>0.010035</td>\n",
              "      <td>0.029369</td>\n",
              "      <td>0.770182</td>\n",
              "    </tr>\n",
              "    <tr>\n",
              "      <th>7175</th>\n",
              "      <td>0.901961</td>\n",
              "      <td>0.044846</td>\n",
              "      <td>0.052929</td>\n",
              "      <td>0.033217</td>\n",
              "      <td>0.054122</td>\n",
              "      <td>0.133626</td>\n",
              "    </tr>\n",
              "    <tr>\n",
              "      <th>16714</th>\n",
              "      <td>0.313725</td>\n",
              "      <td>0.059996</td>\n",
              "      <td>0.059798</td>\n",
              "      <td>0.026154</td>\n",
              "      <td>0.061045</td>\n",
              "      <td>0.263576</td>\n",
              "    </tr>\n",
              "    <tr>\n",
              "      <th>14491</th>\n",
              "      <td>0.411765</td>\n",
              "      <td>0.122929</td>\n",
              "      <td>0.090101</td>\n",
              "      <td>0.034871</td>\n",
              "      <td>0.091882</td>\n",
              "      <td>0.660046</td>\n",
              "    </tr>\n",
              "  </tbody>\n",
              "</table>\n",
              "</div>"
            ],
            "text/plain": [
              "       housingMedianAge  totalRooms  ...  households  medianIncome\n",
              "16086          0.686275    0.064243  ...    0.062094      0.353133\n",
              "8816           0.705882    0.038015  ...    0.029369      0.770182\n",
              "7175           0.901961    0.044846  ...    0.054122      0.133626\n",
              "16714          0.313725    0.059996  ...    0.061045      0.263576\n",
              "14491          0.411765    0.122929  ...    0.091882      0.660046\n",
              "\n",
              "[5 rows x 6 columns]"
            ]
          },
          "metadata": {
            "tags": []
          },
          "execution_count": 121
        }
      ]
    },
    {
      "cell_type": "markdown",
      "metadata": {
        "id": "UImKbGcRn9PW",
        "colab_type": "text"
      },
      "source": [
        "### Create Feature Columns\n",
        "\n",
        "** Create the necessary tf.feature_column objects for the estimator. They should all be trated as continuous numeric_columns. **"
      ]
    },
    {
      "cell_type": "code",
      "metadata": {
        "id": "uCfBJ7iIn9PX",
        "colab_type": "code",
        "colab": {}
      },
      "source": [
        "median_age = tf.feature_column.numeric_column('housingMedianAge')\n",
        "totalRooms = tf.feature_column.numeric_column('totalRooms')\n",
        "totalBedrooms = tf.feature_column.numeric_column('totalBedrooms')\n",
        "population = tf.feature_column.numeric_column('population')\n",
        "households = tf.feature_column.numeric_column('households')\n",
        "medianIncome = tf.feature_column.numeric_column('medianIncome')"
      ],
      "execution_count": 0,
      "outputs": []
    },
    {
      "cell_type": "code",
      "metadata": {
        "id": "c4WuX50ShB-4",
        "colab_type": "code",
        "colab": {}
      },
      "source": [
        "feat_cols = [median_age, totalRooms, totalBedrooms, population, households, medianIncome]"
      ],
      "execution_count": 0,
      "outputs": []
    },
    {
      "cell_type": "markdown",
      "metadata": {
        "id": "92G7WnBMn9Pf",
        "colab_type": "text"
      },
      "source": [
        "** Create the input function for the estimator object. (play around with batch_size and num_epochs)**"
      ]
    },
    {
      "cell_type": "code",
      "metadata": {
        "id": "qf8xxs3Fn9Pf",
        "colab_type": "code",
        "colab": {}
      },
      "source": [
        "input_func = tf.estimator.inputs.pandas_input_fn(x=X_train, y=Y_train,\n",
        "                                                batch_size=10, num_epochs=1000,\n",
        "                                                shuffle=True)"
      ],
      "execution_count": 0,
      "outputs": []
    },
    {
      "cell_type": "markdown",
      "metadata": {
        "id": "_FXHM7gnn9Pm",
        "colab_type": "text"
      },
      "source": [
        "** Create the estimator model. Use a DNNRegressor. Play around with the hidden units! **\n",
        "\n",
        "> Indented block\n",
        "\n"
      ]
    },
    {
      "cell_type": "code",
      "metadata": {
        "id": "-OhsRQ8Zn9Pn",
        "colab_type": "code",
        "outputId": "27212322-2fbd-40ad-b68a-ac36b0b7eec1",
        "colab": {
          "base_uri": "https://localhost:8080/",
          "height": 190
        }
      },
      "source": [
        "model = tf.estimator.DNNRegressor(hidden_units=[6, 6, 6], feature_columns=feat_cols)"
      ],
      "execution_count": 125,
      "outputs": [
        {
          "output_type": "stream",
          "text": [
            "INFO:tensorflow:Using default config.\n",
            "WARNING:tensorflow:Using temporary folder as model directory: /tmp/tmpn_w46c2g\n",
            "INFO:tensorflow:Using config: {'_model_dir': '/tmp/tmpn_w46c2g', '_tf_random_seed': None, '_save_summary_steps': 100, '_save_checkpoints_steps': None, '_save_checkpoints_secs': 600, '_session_config': allow_soft_placement: true\n",
            "graph_options {\n",
            "  rewrite_options {\n",
            "    meta_optimizer_iterations: ONE\n",
            "  }\n",
            "}\n",
            ", '_keep_checkpoint_max': 5, '_keep_checkpoint_every_n_hours': 10000, '_log_step_count_steps': 100, '_train_distribute': None, '_device_fn': None, '_protocol': None, '_eval_distribute': None, '_experimental_distribute': None, '_experimental_max_worker_delay_secs': None, '_service': None, '_cluster_spec': <tensorflow.python.training.server_lib.ClusterSpec object at 0x7f0f3478d6d8>, '_task_type': 'worker', '_task_id': 0, '_global_id_in_cluster': 0, '_master': '', '_evaluation_master': '', '_is_chief': True, '_num_ps_replicas': 0, '_num_worker_replicas': 1}\n"
          ],
          "name": "stdout"
        }
      ]
    },
    {
      "cell_type": "markdown",
      "metadata": {
        "id": "VyARp-W3n9Pq",
        "colab_type": "text"
      },
      "source": [
        "##### ** Train the model for ~1,000 steps. (Later come back to this and train it for more and check for improvement) **"
      ]
    },
    {
      "cell_type": "code",
      "metadata": {
        "id": "7UHcKY2Kn9Pr",
        "colab_type": "code",
        "colab": {}
      },
      "source": [
        "model.train(input_fn=input_func, steps=20000)"
      ],
      "execution_count": 0,
      "outputs": []
    },
    {
      "cell_type": "markdown",
      "metadata": {
        "id": "7_SIEgPhn9Pt",
        "colab_type": "text"
      },
      "source": [
        "** Create a prediction input function and then use the .predict method off your estimator model to create a list or predictions on your test data. **"
      ]
    },
    {
      "cell_type": "code",
      "metadata": {
        "id": "zIwj8-7Jn9Pt",
        "colab_type": "code",
        "colab": {}
      },
      "source": [
        "pred_input_fn = tf.estimator.inputs.pandas_input_fn(x=X_test,\n",
        "                                                   batch_size=10,\n",
        "                                                   num_epochs=1,\n",
        "                                                   shuffle=False)"
      ],
      "execution_count": 0,
      "outputs": []
    },
    {
      "cell_type": "code",
      "metadata": {
        "id": "mkRyCihYn9Pv",
        "colab_type": "code",
        "colab": {}
      },
      "source": [
        "predictions = model.predict(pred_input_fn)"
      ],
      "execution_count": 0,
      "outputs": []
    },
    {
      "cell_type": "code",
      "metadata": {
        "id": "3O0Ja1s-n9Py",
        "colab_type": "code",
        "outputId": "6848b1d2-4c94-4e54-95f6-d4bfd7bce97c",
        "colab": {
          "base_uri": "https://localhost:8080/",
          "height": 289
        }
      },
      "source": [
        "list(predictions)[:10]"
      ],
      "execution_count": 110,
      "outputs": [
        {
          "output_type": "stream",
          "text": [
            "INFO:tensorflow:Could not find trained model in model_dir: /tmp/tmpemse1i7u, running initialization to predict.\n",
            "INFO:tensorflow:Calling model_fn.\n",
            "INFO:tensorflow:Done calling model_fn.\n",
            "INFO:tensorflow:Graph was finalized.\n",
            "INFO:tensorflow:Running local_init_op.\n",
            "INFO:tensorflow:Done running local_init_op.\n"
          ],
          "name": "stdout"
        },
        {
          "output_type": "execute_result",
          "data": {
            "text/plain": [
              "[{'predictions': array([0.17683673], dtype=float32)},\n",
              " {'predictions': array([0.16480483], dtype=float32)},\n",
              " {'predictions': array([0.24287882], dtype=float32)},\n",
              " {'predictions': array([0.08585201], dtype=float32)},\n",
              " {'predictions': array([0.12644613], dtype=float32)},\n",
              " {'predictions': array([0.13953182], dtype=float32)},\n",
              " {'predictions': array([0.23597406], dtype=float32)},\n",
              " {'predictions': array([0.17497797], dtype=float32)},\n",
              " {'predictions': array([0.12112237], dtype=float32)},\n",
              " {'predictions': array([0.09613479], dtype=float32)}]"
            ]
          },
          "metadata": {
            "tags": []
          },
          "execution_count": 110
        }
      ]
    },
    {
      "cell_type": "markdown",
      "metadata": {
        "id": "crwNUJqWn9P0",
        "colab_type": "text"
      },
      "source": [
        "** Calculate the RMSE. You should be able to get around 100,000 RMSE (remember that this is in the same units as the label.) Do this manually or use [sklearn.metrics](http://scikit-learn.org/stable/modules/generated/sklearn.metrics.mean_squared_error.html) **"
      ]
    },
    {
      "cell_type": "code",
      "metadata": {
        "id": "zSEw9Hmyn9P1",
        "colab_type": "code",
        "colab": {
          "base_uri": "https://localhost:8080/",
          "height": 119
        },
        "outputId": "bc826187-fa5d-467a-dea4-da6740db77f3"
      },
      "source": [
        "final_preds = [pred['predictions'] for pred in predictions]"
      ],
      "execution_count": 129,
      "outputs": [
        {
          "output_type": "stream",
          "text": [
            "INFO:tensorflow:Calling model_fn.\n",
            "INFO:tensorflow:Done calling model_fn.\n",
            "INFO:tensorflow:Graph was finalized.\n",
            "INFO:tensorflow:Restoring parameters from /tmp/tmpn_w46c2g/model.ckpt-20000\n",
            "INFO:tensorflow:Running local_init_op.\n",
            "INFO:tensorflow:Done running local_init_op.\n"
          ],
          "name": "stdout"
        }
      ]
    },
    {
      "cell_type": "code",
      "metadata": {
        "id": "PMT0-brhn9P4",
        "colab_type": "code",
        "colab": {}
      },
      "source": [
        "from sklearn.metrics import mean_squared_error"
      ],
      "execution_count": 0,
      "outputs": []
    },
    {
      "cell_type": "code",
      "metadata": {
        "id": "0M-TPDPUn9P6",
        "colab_type": "code",
        "outputId": "b0617e38-4d4f-4f72-ad54-3078dbeb8d7c",
        "colab": {
          "base_uri": "https://localhost:8080/",
          "height": 34
        }
      },
      "source": [
        "mean_squared_error(Y_test, final_preds)**0.5"
      ],
      "execution_count": 132,
      "outputs": [
        {
          "output_type": "execute_result",
          "data": {
            "text/plain": [
              "103224.76129279473"
            ]
          },
          "metadata": {
            "tags": []
          },
          "execution_count": 132
        }
      ]
    }
  ]
}