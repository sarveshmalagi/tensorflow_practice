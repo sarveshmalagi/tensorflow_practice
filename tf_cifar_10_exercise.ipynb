{
  "nbformat": 4,
  "nbformat_minor": 0,
  "metadata": {
    "kernelspec": {
      "name": "python3",
      "display_name": "Python 3"
    },
    "language_info": {
      "codemirror_mode": {
        "name": "ipython",
        "version": 3
      },
      "file_extension": ".py",
      "mimetype": "text/x-python",
      "name": "python",
      "nbconvert_exporter": "python",
      "pygments_lexer": "ipython3",
      "version": "3.5.4"
    },
    "colab": {
      "name": "tf_cifar-10-exercise.ipynb",
      "provenance": [],
      "collapsed_sections": [],
      "include_colab_link": true
    },
    "accelerator": "GPU"
  },
  "cells": [
    {
      "cell_type": "markdown",
      "metadata": {
        "id": "view-in-github",
        "colab_type": "text"
      },
      "source": [
        "<a href=\"https://colab.research.google.com/github/sarveshmalagi/tensorflow_practice/blob/master/tf_cifar_10_exercise.ipynb\" target=\"_parent\"><img src=\"https://colab.research.google.com/assets/colab-badge.svg\" alt=\"Open In Colab\"/></a>"
      ]
    },
    {
      "cell_type": "markdown",
      "metadata": {
        "id": "Vxyhb3j8smg0",
        "colab_type": "text"
      },
      "source": [
        "## CNN-Project-Exercise\n",
        "We'll be using the CIFAR-10 dataset, which is very famous dataset for image recognition! \n",
        "\n",
        "The CIFAR-10 dataset consists of 60000 32x32 colour images in 10 classes, with 6000 images per class. There are 50000 training images and 10000 test images. \n",
        "\n",
        "The dataset is divided into five training batches and one test batch, each with 10000 images. The test batch contains exactly 1000 randomly-selected images from each class. The training batches contain the remaining images in random order, but some training batches may contain more images from one class than another. Between them, the training batches contain exactly 5000 images from each class. \n",
        "\n",
        "### Follow the Instructions in Bold, if you get stuck somewhere, view the solutions video! Most of the challenge with this project is actually dealing with the data and its dimensions, not from setting up the CNN itself!"
      ]
    },
    {
      "cell_type": "markdown",
      "metadata": {
        "id": "tEbpJG36smg1",
        "colab_type": "text"
      },
      "source": [
        "## Step 0: Get the Data\n",
        "\n",
        "** *Note: If you have trouble with this just watch the solutions video. This doesn't really have anything to do with the exercise, its more about setting up your data. Please make sure to watch the solutions video before posting any QA questions.* **"
      ]
    },
    {
      "cell_type": "markdown",
      "metadata": {
        "id": "tKiPuXpvsmg2",
        "colab_type": "text"
      },
      "source": [
        "** Download the data for CIFAR from here: https://www.cs.toronto.edu/~kriz/cifar.html **\n",
        "\n",
        "**Specifically the CIFAR-10 python version link: https://www.cs.toronto.edu/~kriz/cifar-10-python.tar.gz **\n",
        "\n",
        "** Remember the directory you save the file in! **"
      ]
    },
    {
      "cell_type": "code",
      "metadata": {
        "id": "UD_okvtztG98",
        "colab_type": "code",
        "colab": {
          "base_uri": "https://localhost:8080/",
          "height": 204
        },
        "outputId": "8158dd0b-63f8-47f9-ac5e-899097b12c9a"
      },
      "source": [
        "!wget https://www.cs.toronto.edu/~kriz/cifar-10-python.tar.gz"
      ],
      "execution_count": 1,
      "outputs": [
        {
          "output_type": "stream",
          "text": [
            "--2019-09-19 17:25:23--  https://www.cs.toronto.edu/~kriz/cifar-10-python.tar.gz\n",
            "Resolving www.cs.toronto.edu (www.cs.toronto.edu)... 128.100.3.30\n",
            "Connecting to www.cs.toronto.edu (www.cs.toronto.edu)|128.100.3.30|:443... connected.\n",
            "HTTP request sent, awaiting response... 200 OK\n",
            "Length: 170498071 (163M) [application/x-gzip]\n",
            "Saving to: ‘cifar-10-python.tar.gz’\n",
            "\n",
            "cifar-10-python.tar 100%[===================>] 162.60M  19.7MB/s    in 9.2s    \n",
            "\n",
            "2019-09-19 17:25:38 (17.7 MB/s) - ‘cifar-10-python.tar.gz’ saved [170498071/170498071]\n",
            "\n"
          ],
          "name": "stdout"
        }
      ]
    },
    {
      "cell_type": "code",
      "metadata": {
        "id": "NWqow5ugtSCo",
        "colab_type": "code",
        "colab": {
          "base_uri": "https://localhost:8080/",
          "height": 34
        },
        "outputId": "47a7aaef-1ba0-4ea5-8740-061c5057283f"
      },
      "source": [
        "!ls"
      ],
      "execution_count": 2,
      "outputs": [
        {
          "output_type": "stream",
          "text": [
            "cifar-10-python.tar.gz\tsample_data\n"
          ],
          "name": "stdout"
        }
      ]
    },
    {
      "cell_type": "code",
      "metadata": {
        "id": "kQPneInJuBD2",
        "colab_type": "code",
        "colab": {
          "base_uri": "https://localhost:8080/",
          "height": 170
        },
        "outputId": "8afe72f6-f033-4de8-aed3-06605b30206e"
      },
      "source": [
        "!tar -xvf cifar-10-python.tar.gz"
      ],
      "execution_count": 3,
      "outputs": [
        {
          "output_type": "stream",
          "text": [
            "cifar-10-batches-py/\n",
            "cifar-10-batches-py/data_batch_4\n",
            "cifar-10-batches-py/readme.html\n",
            "cifar-10-batches-py/test_batch\n",
            "cifar-10-batches-py/data_batch_3\n",
            "cifar-10-batches-py/batches.meta\n",
            "cifar-10-batches-py/data_batch_2\n",
            "cifar-10-batches-py/data_batch_5\n",
            "cifar-10-batches-py/data_batch_1\n"
          ],
          "name": "stdout"
        }
      ]
    },
    {
      "cell_type": "code",
      "metadata": {
        "id": "PCPmX3QIsmg3",
        "colab_type": "code",
        "colab": {}
      },
      "source": [
        "# Put file path as a string here\n",
        "CIFAR_DIR = 'cifar-10-batches-py/'"
      ],
      "execution_count": 0,
      "outputs": []
    },
    {
      "cell_type": "markdown",
      "metadata": {
        "id": "uqiGjWzGsmg6",
        "colab_type": "text"
      },
      "source": [
        "The archive contains the files data_batch_1, data_batch_2, ..., data_batch_5, as well as test_batch. Each of these files is a Python \"pickled\" object produced with cPickle. \n",
        "\n",
        "** Load the Data. Use the Code Below to load the data: **"
      ]
    },
    {
      "cell_type": "code",
      "metadata": {
        "id": "iX0_VNfSsmg7",
        "colab_type": "code",
        "colab": {}
      },
      "source": [
        "def unpickle(file):\n",
        "    import pickle\n",
        "    with open(file, 'rb') as fo:\n",
        "        cifar_dict = pickle.load(fo, encoding='bytes')\n",
        "    return cifar_dict"
      ],
      "execution_count": 0,
      "outputs": []
    },
    {
      "cell_type": "code",
      "metadata": {
        "id": "FQOvnLEWsmg9",
        "colab_type": "code",
        "colab": {}
      },
      "source": [
        "dirs = ['batches.meta','data_batch_1','data_batch_2','data_batch_3','data_batch_4','data_batch_5','test_batch']"
      ],
      "execution_count": 0,
      "outputs": []
    },
    {
      "cell_type": "code",
      "metadata": {
        "id": "pYHsHIutsmhA",
        "colab_type": "code",
        "colab": {}
      },
      "source": [
        "all_data = [0,1,2,3,4,5,6]"
      ],
      "execution_count": 0,
      "outputs": []
    },
    {
      "cell_type": "code",
      "metadata": {
        "id": "fw8h4WqNsmhC",
        "colab_type": "code",
        "colab": {}
      },
      "source": [
        "for i,direc in zip(all_data,dirs):\n",
        "    all_data[i] = unpickle(CIFAR_DIR+direc)"
      ],
      "execution_count": 0,
      "outputs": []
    },
    {
      "cell_type": "code",
      "metadata": {
        "id": "__wdRfbwsmhF",
        "colab_type": "code",
        "colab": {}
      },
      "source": [
        "batch_meta = all_data[0]\n",
        "data_batch1 = all_data[1]\n",
        "data_batch2 = all_data[2]\n",
        "data_batch3 = all_data[3]\n",
        "data_batch4 = all_data[4]\n",
        "data_batch5 = all_data[5]\n",
        "test_batch = all_data[6]"
      ],
      "execution_count": 0,
      "outputs": []
    },
    {
      "cell_type": "code",
      "metadata": {
        "id": "dF6ENf9ksmhH",
        "colab_type": "code",
        "colab": {
          "base_uri": "https://localhost:8080/",
          "height": 221
        },
        "outputId": "6fcdd3b6-d1f7-41c4-dca5-9a351e78e610"
      },
      "source": [
        "batch_meta"
      ],
      "execution_count": 10,
      "outputs": [
        {
          "output_type": "execute_result",
          "data": {
            "text/plain": [
              "{b'label_names': [b'airplane',\n",
              "  b'automobile',\n",
              "  b'bird',\n",
              "  b'cat',\n",
              "  b'deer',\n",
              "  b'dog',\n",
              "  b'frog',\n",
              "  b'horse',\n",
              "  b'ship',\n",
              "  b'truck'],\n",
              " b'num_cases_per_batch': 10000,\n",
              " b'num_vis': 3072}"
            ]
          },
          "metadata": {
            "tags": []
          },
          "execution_count": 10
        }
      ]
    },
    {
      "cell_type": "markdown",
      "metadata": {
        "id": "kfB4YopmsmhK",
        "colab_type": "text"
      },
      "source": [
        "** Why the 'b's in front of the string? **\n",
        "Bytes literals are always prefixed with 'b' or 'B'; they produce an instance of the bytes type instead of the str type. They may only contain ASCII characters; bytes with a numeric value of 128 or greater must be expressed with escapes.\n",
        "\n",
        "https://stackoverflow.com/questions/6269765/what-does-the-b-character-do-in-front-of-a-string-literal"
      ]
    },
    {
      "cell_type": "code",
      "metadata": {
        "id": "vHQSDhigsmhL",
        "colab_type": "code",
        "colab": {
          "base_uri": "https://localhost:8080/",
          "height": 34
        },
        "outputId": "8ee85485-4285-404f-9fea-9c6648c3c837"
      },
      "source": [
        "data_batch1.keys()"
      ],
      "execution_count": 11,
      "outputs": [
        {
          "output_type": "execute_result",
          "data": {
            "text/plain": [
              "dict_keys([b'batch_label', b'labels', b'data', b'filenames'])"
            ]
          },
          "metadata": {
            "tags": []
          },
          "execution_count": 11
        }
      ]
    },
    {
      "cell_type": "markdown",
      "metadata": {
        "id": "5XlT8x2WsmhN",
        "colab_type": "text"
      },
      "source": [
        "Loaded in this way, each of the batch files contains a dictionary with the following elements:\n",
        "* data -- a 10000x3072 numpy array of uint8s. Each row of the array stores a 32x32 colour image. The first 1024 entries contain the red channel values, the next 1024 the green, and the final 1024 the blue. The image is stored in row-major order, so that the first 32 entries of the array are the red channel values of the first row of the image.\n",
        "* labels -- a list of 10000 numbers in the range 0-9. The number at index i indicates the label of the ith image in the array data.\n",
        "\n",
        "The dataset contains another file, called batches.meta. It too contains a Python dictionary object. It has the following entries:\n",
        "\n",
        "* label_names -- a 10-element list which gives meaningful names to the numeric labels in the labels array described above. For example, label_names[0] == \"airplane\", label_names[1] == \"automobile\", etc."
      ]
    },
    {
      "cell_type": "markdown",
      "metadata": {
        "id": "TMUHI0mHsmhO",
        "colab_type": "text"
      },
      "source": [
        "### Display a single image using matplotlib.\n",
        "\n",
        "** Grab a single image from data_batch1 and display it with plt.imshow(). You'll need to reshape and transpose the numpy array inside the X = data_batch[b'data'] dictionary entry.**\n",
        "\n",
        "** It should end up looking like this: **\n",
        "\n",
        "    # Array of all images reshaped and formatted for viewing\n",
        "    X = X.reshape(10000, 3, 32, 32).transpose(0,2,3,1).astype(\"uint8\")"
      ]
    },
    {
      "cell_type": "code",
      "metadata": {
        "id": "F02WajYIsmhP",
        "colab_type": "code",
        "colab": {}
      },
      "source": [
        "import matplotlib.pyplot as plt\n",
        "%matplotlib inline\n",
        "import numpy as np"
      ],
      "execution_count": 0,
      "outputs": []
    },
    {
      "cell_type": "code",
      "metadata": {
        "id": "rjrTQXJSsmhR",
        "colab_type": "code",
        "colab": {}
      },
      "source": [
        "# Put the code here that transforms the X array!\n",
        "X = data_batch1[b'data']\n",
        "X = X.reshape(10000, 3, 32, 32).transpose(0,2,3,1).astype(\"uint8\")"
      ],
      "execution_count": 0,
      "outputs": []
    },
    {
      "cell_type": "code",
      "metadata": {
        "id": "xJE_dG23smhT",
        "colab_type": "code",
        "colab": {
          "base_uri": "https://localhost:8080/",
          "height": 286
        },
        "outputId": "0e9fa5c9-9268-41b5-89f9-fa26a4961cbf"
      },
      "source": [
        "plt.imshow(X[0])"
      ],
      "execution_count": 14,
      "outputs": [
        {
          "output_type": "execute_result",
          "data": {
            "text/plain": [
              "<matplotlib.image.AxesImage at 0x7f03279e3cc0>"
            ]
          },
          "metadata": {
            "tags": []
          },
          "execution_count": 14
        },
        {
          "output_type": "display_data",
          "data": {
            "image/png": "[encoded data removed]",
            "text/plain": [
              "<Figure size 432x288 with 1 Axes>"
            ]
          },
          "metadata": {
            "tags": []
          }
        }
      ]
    },
    {
      "cell_type": "code",
      "metadata": {
        "id": "Kj_8QdxgsmhV",
        "colab_type": "code",
        "colab": {
          "base_uri": "https://localhost:8080/",
          "height": 286
        },
        "outputId": "f5dcb4ad-7a2a-48f6-d84b-06949711adc7"
      },
      "source": [
        "plt.imshow(X[1])"
      ],
      "execution_count": 15,
      "outputs": [
        {
          "output_type": "execute_result",
          "data": {
            "text/plain": [
              "<matplotlib.image.AxesImage at 0x7f032517a940>"
            ]
          },
          "metadata": {
            "tags": []
          },
          "execution_count": 15
        },
        {
          "output_type": "display_data",
          "data": {
            "image/png": "[encoded data removed]",
            "text/plain": [
              "<Figure size 432x288 with 1 Axes>"
            ]
          },
          "metadata": {
            "tags": []
          }
        }
      ]
    },
    {
      "cell_type": "code",
      "metadata": {
        "id": "Lgy-3nZLsmhY",
        "colab_type": "code",
        "colab": {
          "base_uri": "https://localhost:8080/",
          "height": 286
        },
        "outputId": "535789dd-d476-445e-ab77-b10a0bdd78bb"
      },
      "source": [
        "plt.imshow(X[4])"
      ],
      "execution_count": 16,
      "outputs": [
        {
          "output_type": "execute_result",
          "data": {
            "text/plain": [
              "<matplotlib.image.AxesImage at 0x7f03250e1470>"
            ]
          },
          "metadata": {
            "tags": []
          },
          "execution_count": 16
        },
        {
          "output_type": "display_data",
          "data": {
            "image/png": "[encoded data removed]",
            "text/plain": [
              "<Figure size 432x288 with 1 Axes>"
            ]
          },
          "metadata": {
            "tags": []
          }
        }
      ]
    },
    {
      "cell_type": "markdown",
      "metadata": {
        "id": "CpOubZpCsmha",
        "colab_type": "text"
      },
      "source": [
        "# Helper Functions for Dealing With Data.\n",
        "\n",
        "** Use the provided code below to help with dealing with grabbing the next batch once you've gotten ready to create the Graph Session. Can you break down how it works? **"
      ]
    },
    {
      "cell_type": "code",
      "metadata": {
        "id": "8cFkcv89smha",
        "colab_type": "code",
        "colab": {}
      },
      "source": [
        "def one_hot_encode(vec, vals=10):\n",
        "    '''\n",
        "    For use to one-hot encode the 10- possible labels\n",
        "    '''\n",
        "    n = len(vec)\n",
        "    out = np.zeros((n, vals))\n",
        "    out[range(n), vec] = 1\n",
        "    return out"
      ],
      "execution_count": 0,
      "outputs": []
    },
    {
      "cell_type": "code",
      "metadata": {
        "id": "ZT_MEX16smhd",
        "colab_type": "code",
        "colab": {}
      },
      "source": [
        "class CifarHelper():\n",
        "    \n",
        "    def __init__(self):\n",
        "        self.i = 0\n",
        "        \n",
        "        # Grabs a list of all the data batches for training\n",
        "        self.all_train_batches = [data_batch1,data_batch2,data_batch3,data_batch4,data_batch5]\n",
        "        # Grabs a list of all the test batches (really just one batch)\n",
        "        self.test_batch = [test_batch]\n",
        "        \n",
        "        # Intialize some empty variables for later on\n",
        "        self.training_images = None\n",
        "        self.training_labels = None\n",
        "        \n",
        "        self.test_images = None\n",
        "        self.test_labels = None\n",
        "    \n",
        "    def set_up_images(self):\n",
        "        \n",
        "        print(\"Setting Up Training Images and Labels\")\n",
        "        \n",
        "        # Vertically stacks the training images\n",
        "        self.training_images = np.vstack([d[b\"data\"] for d in self.all_train_batches])\n",
        "        train_len = len(self.training_images)\n",
        "        \n",
        "        # Reshapes and normalizes training images\n",
        "        self.training_images = self.training_images.reshape(train_len,3,32,32).transpose(0,2,3,1)/255\n",
        "        # One hot Encodes the training labels (e.g. [0,0,0,1,0,0,0,0,0,0])\n",
        "        self.training_labels = one_hot_encode(np.hstack([d[b\"labels\"] for d in self.all_train_batches]), 10)\n",
        "        \n",
        "        print(\"Setting Up Test Images and Labels\")\n",
        "        \n",
        "        # Vertically stacks the test images\n",
        "        self.test_images = np.vstack([d[b\"data\"] for d in self.test_batch])\n",
        "        test_len = len(self.test_images)\n",
        "        \n",
        "        # Reshapes and normalizes test images\n",
        "        self.test_images = self.test_images.reshape(test_len,3,32,32).transpose(0,2,3,1)/255\n",
        "        # One hot Encodes the test labels (e.g. [0,0,0,1,0,0,0,0,0,0])\n",
        "        self.test_labels = one_hot_encode(np.hstack([d[b\"labels\"] for d in self.test_batch]), 10)\n",
        "\n",
        "        \n",
        "    def next_batch(self, batch_size):\n",
        "        # Note that the 100 dimension in the reshape call is set by an assumed batch size of 100\n",
        "        x = self.training_images[self.i:self.i+batch_size].reshape(100,32,32,3)\n",
        "        y = self.training_labels[self.i:self.i+batch_size]\n",
        "        self.i = (self.i + batch_size) % len(self.training_images)\n",
        "        return x, y"
      ],
      "execution_count": 0,
      "outputs": []
    },
    {
      "cell_type": "markdown",
      "metadata": {
        "id": "QimkMYPRsmhf",
        "colab_type": "text"
      },
      "source": [
        "** How to use the above code: **"
      ]
    },
    {
      "cell_type": "code",
      "metadata": {
        "id": "XNFeSAkgsmhg",
        "colab_type": "code",
        "colab": {
          "base_uri": "https://localhost:8080/",
          "height": 51
        },
        "outputId": "813e7e75-7382-46d8-e28c-e368c9a64e28"
      },
      "source": [
        "# Before Your tf.Session run these two lines\n",
        "ch = CifarHelper()\n",
        "ch.set_up_images()\n",
        "\n",
        "# During your session to grab the next batch use this line\n",
        "# (Just like we did for mnist.train.next_batch)\n",
        "# batch = ch.next_batch(100)"
      ],
      "execution_count": 19,
      "outputs": [
        {
          "output_type": "stream",
          "text": [
            "Setting Up Training Images and Labels\n",
            "Setting Up Test Images and Labels\n"
          ],
          "name": "stdout"
        }
      ]
    },
    {
      "cell_type": "markdown",
      "metadata": {
        "id": "izqRDMQasmhj",
        "colab_type": "text"
      },
      "source": [
        "## Creating the Model\n",
        "\n",
        "** Import tensorflow **"
      ]
    },
    {
      "cell_type": "code",
      "metadata": {
        "id": "e3XUCwIjsmhj",
        "colab_type": "code",
        "colab": {}
      },
      "source": [
        "import tensorflow as tf"
      ],
      "execution_count": 0,
      "outputs": []
    },
    {
      "cell_type": "markdown",
      "metadata": {
        "id": "4FhSo3Dssmhn",
        "colab_type": "text"
      },
      "source": [
        "** Create 2 placeholders, x and y_true. Their shapes should be: **\n",
        "\n",
        "* x shape = [None,32,32,3]\n",
        "* y_true shape = [None,10]\n"
      ]
    },
    {
      "cell_type": "code",
      "metadata": {
        "id": "qd66PyEcsmhp",
        "colab_type": "code",
        "colab": {}
      },
      "source": [
        "x = tf.placeholder(tf.float32, shape=[None, 32, 32, 3])\n",
        "y_true = tf.placeholder(tf.float32, shape=[None, 10])"
      ],
      "execution_count": 0,
      "outputs": []
    },
    {
      "cell_type": "markdown",
      "metadata": {
        "id": "g5j-8v8Asmhs",
        "colab_type": "text"
      },
      "source": [
        "** Create one more placeholder called hold_prob. No need for shape here. This placeholder will just hold a single probability for the dropout. **"
      ]
    },
    {
      "cell_type": "code",
      "metadata": {
        "id": "srC-u6POsmhs",
        "colab_type": "code",
        "colab": {}
      },
      "source": [
        "hold_prob = tf.placeholder(tf.float32)"
      ],
      "execution_count": 0,
      "outputs": []
    },
    {
      "cell_type": "markdown",
      "metadata": {
        "id": "8sAfo1gCsmhv",
        "colab_type": "text"
      },
      "source": [
        "### Helper Functions\n",
        "\n",
        "** Grab the helper functions from MNIST with CNN (or recreate them here yourself for a hard challenge!). You'll need: **\n",
        "\n",
        "* init_weights\n",
        "* init_bias\n",
        "* conv2d\n",
        "* max_pool_2by2\n",
        "* convolutional_layer\n",
        "* normal_full_layer"
      ]
    },
    {
      "cell_type": "code",
      "metadata": {
        "id": "D1Rqbu8FcoHO",
        "colab_type": "code",
        "colab": {}
      },
      "source": [
        "def init_weights(shape):\n",
        "  init_random_dist = tf.truncated_normal(shape, stddev=0.1)\n",
        "  \n",
        "  return tf.Variable(init_random_dist)"
      ],
      "execution_count": 0,
      "outputs": []
    },
    {
      "cell_type": "code",
      "metadata": {
        "id": "XWuyk9CadGNm",
        "colab_type": "code",
        "colab": {}
      },
      "source": [
        "def init_bias(shape):\n",
        "  init_bias_vals = tf.constant(0.1, shape=shape)\n",
        "  return tf.Variable(init_bias_vals)"
      ],
      "execution_count": 0,
      "outputs": []
    },
    {
      "cell_type": "code",
      "metadata": {
        "id": "X7yngiDQdRC3",
        "colab_type": "code",
        "colab": {}
      },
      "source": [
        "def conv2d(x, W):\n",
        "  # x --> [batch, H, W, C] --> Input tensor\n",
        "  # W --> [filter H, filter W, channel IN, channel OUT]\n",
        "  \n",
        "  return tf.nn.conv2d(x, W, strides=[1,1,1,1], padding='SAME')"
      ],
      "execution_count": 0,
      "outputs": []
    },
    {
      "cell_type": "code",
      "metadata": {
        "id": "gCK0cUHed11f",
        "colab_type": "code",
        "colab": {}
      },
      "source": [
        "def max_pool_2by2(x):\n",
        "  return tf.nn.max_pool(x, ksize=[1, 2, 2, 1], strides=[1, 2, 2, 1], padding='SAME')"
      ],
      "execution_count": 0,
      "outputs": []
    },
    {
      "cell_type": "code",
      "metadata": {
        "id": "s7Hmpq7FfLtY",
        "colab_type": "code",
        "colab": {}
      },
      "source": [
        "def convolutional_layer(input_x, shape):\n",
        "  \n",
        "  W = init_weights(shape)\n",
        "  b = init_bias([shape[3]])\n",
        "  return tf.nn.relu(conv2d(input_x, W)+b)"
      ],
      "execution_count": 0,
      "outputs": []
    },
    {
      "cell_type": "code",
      "metadata": {
        "id": "TxwxX8pcfkAx",
        "colab_type": "code",
        "colab": {}
      },
      "source": [
        "def fc_layer(input_layer, size):\n",
        "  input_size = int(input_layer.get_shape()[1])\n",
        "  W = init_weights([input_size, size])\n",
        "  b = init_bias([size])\n",
        "  return tf.matmul(input_layer, W)+b"
      ],
      "execution_count": 0,
      "outputs": []
    },
    {
      "cell_type": "markdown",
      "metadata": {
        "id": "ViAiTDAasmhy",
        "colab_type": "text"
      },
      "source": [
        "### Create the Layers\n",
        "\n",
        "** Create a convolutional layer and a pooling layer as we did for MNIST. **\n",
        "** Its up to you what the 2d size of the convolution should be, but the last two digits need to be 3 and 32 because of the 3 color channels and 32 pixels. So for example you could use:**\n",
        "\n",
        "        convo_1 = convolutional_layer(x,shape=[4,4,3,32])"
      ]
    },
    {
      "cell_type": "code",
      "metadata": {
        "id": "ZMMBEovOsmhy",
        "colab_type": "code",
        "colab": {}
      },
      "source": [
        "conv_1 = convolutional_layer(x, shape=[4,4,3,32])\n",
        "conv_1_pooling = max_pool_2by2(conv_1)"
      ],
      "execution_count": 0,
      "outputs": []
    },
    {
      "cell_type": "markdown",
      "metadata": {
        "id": "6PziDkVzsmh1",
        "colab_type": "text"
      },
      "source": [
        "** Create the next convolutional and pooling layers.  The last two dimensions of the convo_2 layer should be 32,64 **"
      ]
    },
    {
      "cell_type": "code",
      "metadata": {
        "id": "E8cAcGWvsmh1",
        "colab_type": "code",
        "colab": {}
      },
      "source": [
        "conv_2 = convolutional_layer(conv_1_pooling, shape=[4,4,32,64])\n",
        "conv_2_pooling = max_pool_2by2(conv_2)"
      ],
      "execution_count": 0,
      "outputs": []
    },
    {
      "cell_type": "code",
      "metadata": {
        "id": "HKzK7HVj9mhK",
        "colab_type": "code",
        "colab": {}
      },
      "source": [
        "conv_3 = convolutional_layer(conv_2_pooling, shape=[4,4,64,128])\n",
        "conv_3_pooling = max_pool_2by2(conv_3)"
      ],
      "execution_count": 0,
      "outputs": []
    },
    {
      "cell_type": "markdown",
      "metadata": {
        "id": "xvFpZTVksmh3",
        "colab_type": "text"
      },
      "source": [
        "** Now create a flattened layer by reshaping the pooling layer into [-1,8 \\* 8 \\* 64] or [-1,4096] **"
      ]
    },
    {
      "cell_type": "code",
      "metadata": {
        "id": "k-O7ksHpsmh4",
        "colab_type": "code",
        "colab": {}
      },
      "source": [
        "#8*8*64\n",
        "conv_3_flat = tf.reshape(conv_3_pooling, [-1, 4*4*128])"
      ],
      "execution_count": 0,
      "outputs": []
    },
    {
      "cell_type": "markdown",
      "metadata": {
        "id": "sTHacOvFsmh-",
        "colab_type": "text"
      },
      "source": [
        "** Create a new full layer using the normal_full_layer function and passing in your flattend convolutional 2 layer with size=1024. (You could also choose to reduce this to something like 512)**"
      ]
    },
    {
      "cell_type": "code",
      "metadata": {
        "id": "etwiy2rvsmh_",
        "colab_type": "code",
        "colab": {}
      },
      "source": [
        "full_layer_one = tf.nn.relu(fc_layer(conv_3_flat, 2048))"
      ],
      "execution_count": 0,
      "outputs": []
    },
    {
      "cell_type": "markdown",
      "metadata": {
        "id": "rZR-kMKPsmiB",
        "colab_type": "text"
      },
      "source": [
        "** Now create the dropout layer with tf.nn.dropout, remember to pass in your hold_prob placeholder. **"
      ]
    },
    {
      "cell_type": "code",
      "metadata": {
        "id": "_C91qk-CsmiC",
        "colab_type": "code",
        "colab": {
          "base_uri": "https://localhost:8080/",
          "height": 68
        },
        "outputId": "74c2ceba-37be-4c03-ec39-08db8accccd0"
      },
      "source": [
        "full_one_dropout = tf.nn.dropout(full_layer_one, keep_prob=hold_prob)"
      ],
      "execution_count": 34,
      "outputs": [
        {
          "output_type": "stream",
          "text": [
            "WARNING:tensorflow:From <ipython-input-34-90e096c20a07>:1: calling dropout (from tensorflow.python.ops.nn_ops) with keep_prob is deprecated and will be removed in a future version.\n",
            "Instructions for updating:\n",
            "Please use `rate` instead of `keep_prob`. Rate should be set to `rate = 1 - keep_prob`.\n"
          ],
          "name": "stdout"
        }
      ]
    },
    {
      "cell_type": "markdown",
      "metadata": {
        "id": "ZEBDEOOzsmiE",
        "colab_type": "text"
      },
      "source": [
        "** Finally set the output to y_pred by passing in the dropout layer into the normal_full_layer function. The size should be 10 because of the 10 possible labels**"
      ]
    },
    {
      "cell_type": "code",
      "metadata": {
        "id": "iosuO7A1smiF",
        "colab_type": "code",
        "colab": {}
      },
      "source": [
        "y_pred = fc_layer(full_one_dropout, 10)"
      ],
      "execution_count": 0,
      "outputs": []
    },
    {
      "cell_type": "markdown",
      "metadata": {
        "id": "4lgyGQ7vsmiG",
        "colab_type": "text"
      },
      "source": [
        "### Loss Function\n",
        "\n",
        "** Create a cross_entropy loss function **"
      ]
    },
    {
      "cell_type": "code",
      "metadata": {
        "id": "NqmXvl01smiH",
        "colab_type": "code",
        "colab": {
          "base_uri": "https://localhost:8080/",
          "height": 153
        },
        "outputId": "0bade882-b459-453f-9c44-c31f2be95e13"
      },
      "source": [
        "cross_entropy = tf.reduce_mean(tf.nn.softmax_cross_entropy_with_logits(labels=y_true, logits=y_pred))"
      ],
      "execution_count": 36,
      "outputs": [
        {
          "output_type": "stream",
          "text": [
            "WARNING:tensorflow:From <ipython-input-36-de34d8b053ce>:1: softmax_cross_entropy_with_logits (from tensorflow.python.ops.nn_ops) is deprecated and will be removed in a future version.\n",
            "Instructions for updating:\n",
            "\n",
            "Future major versions of TensorFlow will allow gradients to flow\n",
            "into the labels input on backprop by default.\n",
            "\n",
            "See `tf.nn.softmax_cross_entropy_with_logits_v2`.\n",
            "\n"
          ],
          "name": "stdout"
        }
      ]
    },
    {
      "cell_type": "markdown",
      "metadata": {
        "id": "tOO1VpsDsmiI",
        "colab_type": "text"
      },
      "source": [
        "### Optimizer\n",
        "** Create the optimizer using an Adam Optimizer. **"
      ]
    },
    {
      "cell_type": "code",
      "metadata": {
        "id": "uASlMoCSsmiJ",
        "colab_type": "code",
        "colab": {}
      },
      "source": [
        "optimizer = tf.train.AdamOptimizer(learning_rate=0.001)\n",
        "train = optimizer.minimize(cross_entropy)"
      ],
      "execution_count": 0,
      "outputs": []
    },
    {
      "cell_type": "markdown",
      "metadata": {
        "id": "z1HOIuGysmiL",
        "colab_type": "text"
      },
      "source": [
        "** Create a variable to intialize all the global tf variables. **"
      ]
    },
    {
      "cell_type": "code",
      "metadata": {
        "id": "Hsc9P2GHsmiM",
        "colab_type": "code",
        "colab": {}
      },
      "source": [
        "init = tf.global_variables_initializer()"
      ],
      "execution_count": 0,
      "outputs": []
    },
    {
      "cell_type": "markdown",
      "metadata": {
        "id": "bcoxM9mjsmiN",
        "colab_type": "text"
      },
      "source": [
        "## Graph Session\n",
        "\n",
        "** Perform the training and test print outs in a Tf session and run your model! **"
      ]
    },
    {
      "cell_type": "code",
      "metadata": {
        "id": "a2I_Dz_jsmiO",
        "colab_type": "code",
        "colab": {
          "base_uri": "https://localhost:8080/",
          "height": 1000
        },
        "outputId": "1dcfa874-87c1-485d-ed0a-73ff2e4308a5"
      },
      "source": [
        "steps = 5000\n",
        "\n",
        "ch = CifarHelper()\n",
        "ch.set_up_images()\n",
        "\n",
        "with tf.Session() as sess:\n",
        "  \n",
        "  sess.run(init)\n",
        "  \n",
        "  for i in range(steps):\n",
        "    \n",
        "    batch_x, batch_y = ch.next_batch(100)\n",
        "    \n",
        "    sess.run(train, feed_dict={x: batch_x, y_true:batch_y, hold_prob:0.5})\n",
        "    \n",
        "    if i%100 == 0:\n",
        "      \n",
        "      print('Step: {}'.format(i))\n",
        "      matches = tf.equal(tf.argmax(y_pred, 1), tf.argmax(y_true, 1))\n",
        "      acc = tf.reduce_mean(tf.cast(matches, tf.float32))\n",
        "      print(sess.run(acc, feed_dict={x:ch.test_images, y_true:ch.test_labels, hold_prob:1.0}))"
      ],
      "execution_count": 40,
      "outputs": [
        {
          "output_type": "stream",
          "text": [
            "Setting Up Training Images and Labels\n",
            "Setting Up Test Images and Labels\n",
            "Step: 0\n",
            "0.1157\n",
            "Step: 100\n",
            "0.4074\n",
            "Step: 200\n",
            "0.4118\n",
            "Step: 300\n",
            "0.4763\n",
            "Step: 400\n",
            "0.486\n",
            "Step: 500\n",
            "0.5317\n",
            "Step: 600\n",
            "0.5447\n",
            "Step: 700\n",
            "0.5554\n",
            "Step: 800\n",
            "0.5696\n",
            "Step: 900\n",
            "0.5842\n",
            "Step: 1000\n",
            "0.5985\n",
            "Step: 1100\n",
            "0.6112\n",
            "Step: 1200\n",
            "0.6057\n",
            "Step: 1300\n",
            "0.626\n",
            "Step: 1400\n",
            "0.6302\n",
            "Step: 1500\n",
            "0.6458\n",
            "Step: 1600\n",
            "0.6297\n",
            "Step: 1700\n",
            "0.6397\n",
            "Step: 1800\n",
            "0.6505\n",
            "Step: 1900\n",
            "0.6566\n",
            "Step: 2000\n",
            "0.6515\n",
            "Step: 2100\n",
            "0.6628\n",
            "Step: 2200\n",
            "0.6649\n",
            "Step: 2300\n",
            "0.6636\n",
            "Step: 2400\n",
            "0.6696\n",
            "Step: 2500\n",
            "0.6637\n",
            "Step: 2600\n",
            "0.6867\n",
            "Step: 2700\n",
            "0.6788\n",
            "Step: 2800\n",
            "0.6839\n",
            "Step: 2900\n",
            "0.6782\n",
            "Step: 3000\n",
            "0.6716\n",
            "Step: 3100\n",
            "0.6781\n",
            "Step: 3200\n",
            "0.6788\n",
            "Step: 3300\n",
            "0.6871\n",
            "Step: 3400\n",
            "0.6983\n",
            "Step: 3500\n",
            "0.6836\n",
            "Step: 3600\n",
            "0.6855\n",
            "Step: 3700\n",
            "0.6809\n",
            "Step: 3800\n",
            "0.6769\n",
            "Step: 3900\n",
            "0.7014\n",
            "Step: 4000\n",
            "0.691\n",
            "Step: 4100\n",
            "0.6831\n",
            "Step: 4200\n",
            "0.6868\n",
            "Step: 4300\n",
            "0.672\n",
            "Step: 4400\n",
            "0.6983\n",
            "Step: 4500\n",
            "0.6947\n",
            "Step: 4600\n",
            "0.692\n",
            "Step: 4700\n",
            "0.6812\n",
            "Step: 4800\n",
            "0.6754\n",
            "Step: 4900\n",
            "0.7092\n"
          ],
          "name": "stdout"
        }
      ]
    }
  ]
}